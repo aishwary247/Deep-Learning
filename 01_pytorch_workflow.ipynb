{
  "nbformat": 4,
  "nbformat_minor": 0,
  "metadata": {
    "colab": {
      "provenance": []
    },
    "kernelspec": {
      "name": "python3",
      "display_name": "Python 3"
    },
    "language_info": {
      "name": "python"
    }
  },
  "cells": [
    {
      "cell_type": "code",
      "execution_count": null,
      "metadata": {
        "id": "W8XeesyA_lXU"
      },
      "outputs": [],
      "source": [
        "import torch\n",
        "from torch import nn   # nn contains all pytorch's building blocks for neural networks\n",
        "import matplotlib.pyplot as plt"
      ]
    },
    {
      "cell_type": "code",
      "source": [
        "# creating data set\n",
        "start = 0\n",
        "end = 1\n",
        "step = 0.02\n",
        "weight = 0.7\n",
        "bias = 0.3\n",
        "X = torch.arange(start,end,step).unsqueeze(dim = 1)\n",
        "y = weight*X + bias\n",
        "print(X[:10])\n",
        "print(y[:10])\n",
        "print(len(X))"
      ],
      "metadata": {
        "colab": {
          "base_uri": "https://localhost:8080/"
        },
        "id": "sBQU7g1HARgA",
        "outputId": "320d6fad-4264-4ee1-f918-4f8adbd5bd79"
      },
      "execution_count": null,
      "outputs": [
        {
          "output_type": "stream",
          "name": "stdout",
          "text": [
            "tensor([[0.0000],\n",
            "        [0.0200],\n",
            "        [0.0400],\n",
            "        [0.0600],\n",
            "        [0.0800],\n",
            "        [0.1000],\n",
            "        [0.1200],\n",
            "        [0.1400],\n",
            "        [0.1600],\n",
            "        [0.1800]])\n",
            "tensor([[0.3000],\n",
            "        [0.3140],\n",
            "        [0.3280],\n",
            "        [0.3420],\n",
            "        [0.3560],\n",
            "        [0.3700],\n",
            "        [0.3840],\n",
            "        [0.3980],\n",
            "        [0.4120],\n",
            "        [0.4260]])\n",
            "50\n"
          ]
        }
      ]
    },
    {
      "cell_type": "code",
      "source": [
        "# test and train split\n",
        "split_value = int(0.8*(len(X)))\n",
        "print(split_value)\n",
        "X_train, y_train = X[:split_value], y[:split_value]\n",
        "X_test, y_test = X[split_value:], y[split_value:]\n",
        "len(X_train), len(y_train), len(X_test), len(y_test)"
      ],
      "metadata": {
        "colab": {
          "base_uri": "https://localhost:8080/"
        },
        "id": "uIMHh1TRBm65",
        "outputId": "9328bcc3-55a1-4626-f1ae-b8bd358e7102"
      },
      "execution_count": null,
      "outputs": [
        {
          "output_type": "stream",
          "name": "stdout",
          "text": [
            "40\n"
          ]
        },
        {
          "output_type": "execute_result",
          "data": {
            "text/plain": [
              "(40, 40, 10, 10)"
            ]
          },
          "metadata": {},
          "execution_count": 4
        }
      ]
    },
    {
      "cell_type": "code",
      "source": [
        "a = 0.8*len(X)\n",
        "type(a)"
      ],
      "metadata": {
        "colab": {
          "base_uri": "https://localhost:8080/"
        },
        "id": "AZHggrsFIZKn",
        "outputId": "2a920bb7-128c-432f-848b-af2d334b4e9d"
      },
      "execution_count": null,
      "outputs": [
        {
          "output_type": "execute_result",
          "data": {
            "text/plain": [
              "float"
            ]
          },
          "metadata": {},
          "execution_count": 5
        }
      ]
    },
    {
      "cell_type": "code",
      "source": [
        "def plot_predictions(train_data = X_train,\n",
        "                     train_label = y_train,\n",
        "                     test_data = X_test,\n",
        "                     test_label = y_test,\n",
        "                     predictions = None):\n",
        "\n",
        "  plt.figure(figsize=(8,6))\n",
        "\n",
        "  #plot training data in blue\n",
        "  plt.scatter(train_data, train_label, c = \"b\", s=4, label=\"Training data\")\n",
        "\n",
        "  #plot test data in green\n",
        "  plt.scatter(test_data, test_label, c = \"g\", s=4, label =\"Test data\")\n",
        "\n",
        "  #plot predictions\n",
        "  if predictions is not None:\n",
        "    plt.scatter(test_data, predictions, c =\"r\", s=4, label =\"Predictions\")\n",
        "\n",
        "  plt.legend(prop={\"size\": 17});\n"
      ],
      "metadata": {
        "id": "jfaBtqNmC7PZ"
      },
      "execution_count": null,
      "outputs": []
    },
    {
      "cell_type": "code",
      "source": [
        "plot_predictions();"
      ],
      "metadata": {
        "colab": {
          "base_uri": "https://localhost:8080/",
          "height": 522
        },
        "id": "rMLpTL1yFHGV",
        "outputId": "26d29e4e-03ef-498a-a05f-d10cf84d4bb8"
      },
      "execution_count": null,
      "outputs": [
        {
          "output_type": "display_data",
          "data": {
            "text/plain": [
              "<Figure size 800x600 with 1 Axes>"
            ],
            "image/png": "[encoded data removed]"
          },
          "metadata": {}
        }
      ]
    },
    {
      "cell_type": "markdown",
      "source": [
        "#Building Models\n",
        "not implemented error - due to indentation errors in functions\n"
      ],
      "metadata": {
        "id": "3MVDQsOjI12i"
      }
    },
    {
      "cell_type": "code",
      "source": [
        "# building a model for linear regression\n",
        "class linearRegressionModel(nn.Module):\n",
        "  def __init__(self):\n",
        "    super().__init__()\n",
        "    self.weight = nn.Parameter(torch.randn(1,\n",
        "                              dtype = torch.float), #torch.float32 by default\n",
        "                              requires_grad= True) #can we update this value with gradient descent\n",
        "    self.bias = nn.Parameter(torch.randn(1,\n",
        "                            dtype = torch.float),\n",
        "                            requires_grad= True)\n",
        "\n",
        "  def forward(self, x: torch.tensor) -> torch.tensor :\n",
        "    return self.weight * x + self.bias\n",
        "\n",
        "#any subclass of nn.module needs a forward method(this defines forward computatuion of a model)"
      ],
      "metadata": {
        "id": "LbFo5RzqGEna"
      },
      "execution_count": null,
      "outputs": []
    },
    {
      "cell_type": "code",
      "source": [
        "torch.manual_seed(42)\n",
        "model_0 = linearRegressionModel()\n",
        "list(model_0.parameters())"
      ],
      "metadata": {
        "colab": {
          "base_uri": "https://localhost:8080/"
        },
        "id": "C3csk-6Qd4CH",
        "outputId": "a38743e8-f487-4ffc-b14e-1ddd0287c6e3"
      },
      "execution_count": null,
      "outputs": [
        {
          "output_type": "execute_result",
          "data": {
            "text/plain": [
              "[Parameter containing:\n",
              " tensor([0.3367], requires_grad=True),\n",
              " Parameter containing:\n",
              " tensor([0.1288], requires_grad=True)]"
            ]
          },
          "metadata": {},
          "execution_count": 10
        }
      ]
    },
    {
      "cell_type": "code",
      "source": [
        "next(model_0.parameters())"
      ],
      "metadata": {
        "colab": {
          "base_uri": "https://localhost:8080/"
        },
        "id": "0cRRN9M9D5Ez",
        "outputId": "bf52ca3a-7eb5-4f79-ca80-24071cce16cc"
      },
      "execution_count": null,
      "outputs": [
        {
          "output_type": "execute_result",
          "data": {
            "text/plain": [
              "Parameter containing:\n",
              "tensor([0.3367], requires_grad=True)"
            ]
          },
          "metadata": {},
          "execution_count": 12
        }
      ]
    },
    {
      "cell_type": "code",
      "source": [
        "for param in model_0.parameters():\n",
        "    # param is a tensor representing a model parameter\n",
        "    print(param)\n"
      ],
      "metadata": {
        "colab": {
          "base_uri": "https://localhost:8080/"
        },
        "id": "Sx64RHU1DxTH",
        "outputId": "fccfcf6f-1ead-4af6-e9e3-83698570a6cb"
      },
      "execution_count": null,
      "outputs": [
        {
          "output_type": "stream",
          "name": "stdout",
          "text": [
            "Parameter containing:\n",
            "tensor([0.3367], requires_grad=True)\n",
            "Parameter containing:\n",
            "tensor([0.1288], requires_grad=True)\n"
          ]
        }
      ]
    },
    {
      "cell_type": "code",
      "source": [
        "model_0.state_dict()  #another way of seeing parameters as dictionary"
      ],
      "metadata": {
        "colab": {
          "base_uri": "https://localhost:8080/"
        },
        "id": "KCvX9BY1fCDF",
        "outputId": "e2fce246-ad1b-465b-8717-6a8ed972091a"
      },
      "execution_count": null,
      "outputs": [
        {
          "output_type": "execute_result",
          "data": {
            "text/plain": [
              "OrderedDict([('weight', tensor([0.3367])), ('bias', tensor([0.1288]))])"
            ]
          },
          "metadata": {},
          "execution_count": 10
        }
      ]
    },
    {
      "cell_type": "code",
      "source": [
        "with torch.inference_mode():\n",
        "  y_pred = model_0(X_test)"
      ],
      "metadata": {
        "id": "_IX8eOxZfg5h"
      },
      "execution_count": null,
      "outputs": []
    },
    {
      "cell_type": "code",
      "source": [
        "plot_predictions(predictions = y_pred)"
      ],
      "metadata": {
        "colab": {
          "base_uri": "https://localhost:8080/",
          "height": 522
        },
        "id": "d9KtnBtZgaUE",
        "outputId": "6ec15763-466c-4707-c35f-d73ceddf347c"
      },
      "execution_count": null,
      "outputs": [
        {
          "output_type": "display_data",
          "data": {
            "text/plain": [
              "<Figure size 800x600 with 1 Axes>"
            ],
            "image/png": "[encoded data removed]"
          },
          "metadata": {}
        }
      ]
    },
    {
      "cell_type": "markdown",
      "source": [
        "#Training the model\n"
      ],
      "metadata": {
        "id": "MqnYdPJkRWQW"
      }
    },
    {
      "cell_type": "code",
      "source": [
        "#creating the loss function\n",
        "loss_fn = nn.L1Loss() #MAE loss\n",
        "\n",
        "# choosing optimiser\n",
        "optimiser = torch.optim.SGD(model_0.parameters(), lr = 0.01)"
      ],
      "metadata": {
        "id": "svqmNmSjRZE1"
      },
      "execution_count": null,
      "outputs": []
    },
    {
      "cell_type": "code",
      "source": [
        "#Pass the model through the data for the number of epochs\n",
        "epoch_count = []\n",
        "test_loss_values = []\n",
        "train_loss_values = []\n",
        "epochs = 200\n",
        "for epoch in range(epochs):\n",
        "  #put the model in training mode. This is the default state of model\n",
        "  model_0.train()\n",
        "\n",
        "  #1.forward pass on the training data using forward() method. Basically caculating y_predicted values\n",
        "  y_pred = model_0(X_train)\n",
        "\n",
        "  #2.Calculate the loss of y_predicted w.r.t to the y_true values\n",
        "  loss = loss_fn(y_pred,y_train)\n",
        "\n",
        "  #3.zero the gradients of the optimiser(since after each epoch they accumulate)\n",
        "  optimiser.zero_grad()\n",
        "\n",
        "  #4.perform backpropagation (computes the gradient of every parameter (with requires_grad = true) )\n",
        "  loss.backward()\n",
        "\n",
        "  #5.Step the optimiser with respect to the gradients calculated in loss.backward\n",
        "  # (updates the parameters with the help of gradients and lr)\n",
        "  optimiser.step()\n",
        "\n",
        "  model_0.eval() #turns off different settings in the model not required for evaluation/testing (dropout/Batch norm layers)\n",
        "  with torch.inference_mode(): #turns off  gradient tracking and couple of things behind the scene\n",
        "  #with torch.no_grad(): used in older pytorch codes\n",
        "    test_pred = model_0(X_test)\n",
        "    test_loss = loss_fn(test_pred, y_test)\n",
        "\n",
        "    epoch_count.append(epoch)\n",
        "    train_loss_values.append(loss)\n",
        "    test_loss_values.append(test_loss)\n",
        "  if epoch%10 == 0 :\n",
        "    print(f\"epoch = {epoch} | train loss: {loss} | test loss: {test_loss}\")\n",
        "    print(model_0.state_dict())\n",
        "\n",
        "\n"
      ],
      "metadata": {
        "colab": {
          "base_uri": "https://localhost:8080/"
        },
        "id": "z2nYekFCSs68",
        "outputId": "5aaf17b1-d9e5-4403-e079-c7d208dbef7b"
      },
      "execution_count": null,
      "outputs": [
        {
          "output_type": "stream",
          "name": "stdout",
          "text": [
            "epoch = 0 | train loss: 0.31288138031959534 | test loss: 0.48106518387794495\n",
            "OrderedDict([('weight', tensor([0.3406])), ('bias', tensor([0.1388]))])\n",
            "epoch = 10 | train loss: 0.1976713240146637 | test loss: 0.3463551998138428\n",
            "OrderedDict([('weight', tensor([0.3796])), ('bias', tensor([0.2388]))])\n",
            "epoch = 20 | train loss: 0.08908725529909134 | test loss: 0.21729660034179688\n",
            "OrderedDict([('weight', tensor([0.4184])), ('bias', tensor([0.3333]))])\n",
            "epoch = 30 | train loss: 0.053148526698350906 | test loss: 0.14464017748832703\n",
            "OrderedDict([('weight', tensor([0.4512])), ('bias', tensor([0.3768]))])\n",
            "epoch = 40 | train loss: 0.04543796554207802 | test loss: 0.11360953003168106\n",
            "OrderedDict([('weight', tensor([0.4748])), ('bias', tensor([0.3868]))])\n",
            "epoch = 50 | train loss: 0.04167863354086876 | test loss: 0.09919948130846024\n",
            "OrderedDict([('weight', tensor([0.4938])), ('bias', tensor([0.3843]))])\n",
            "epoch = 60 | train loss: 0.03818932920694351 | test loss: 0.08886633068323135\n",
            "OrderedDict([('weight', tensor([0.5116])), ('bias', tensor([0.3788]))])\n",
            "epoch = 70 | train loss: 0.03476089984178543 | test loss: 0.0805937647819519\n",
            "OrderedDict([('weight', tensor([0.5288])), ('bias', tensor([0.3718]))])\n",
            "epoch = 80 | train loss: 0.03132382780313492 | test loss: 0.07232122868299484\n",
            "OrderedDict([('weight', tensor([0.5459])), ('bias', tensor([0.3648]))])\n",
            "epoch = 90 | train loss: 0.02788739837706089 | test loss: 0.06473556160926819\n",
            "OrderedDict([('weight', tensor([0.5629])), ('bias', tensor([0.3573]))])\n",
            "epoch = 100 | train loss: 0.024458957836031914 | test loss: 0.05646304413676262\n",
            "OrderedDict([('weight', tensor([0.5800])), ('bias', tensor([0.3503]))])\n",
            "epoch = 110 | train loss: 0.021020207554101944 | test loss: 0.04819049686193466\n",
            "OrderedDict([('weight', tensor([0.5972])), ('bias', tensor([0.3433]))])\n",
            "epoch = 120 | train loss: 0.01758546568453312 | test loss: 0.04060482233762741\n",
            "OrderedDict([('weight', tensor([0.6141])), ('bias', tensor([0.3358]))])\n",
            "epoch = 130 | train loss: 0.014155393466353416 | test loss: 0.03233227878808975\n",
            "OrderedDict([('weight', tensor([0.6313])), ('bias', tensor([0.3288]))])\n",
            "epoch = 140 | train loss: 0.010716589167714119 | test loss: 0.024059748277068138\n",
            "OrderedDict([('weight', tensor([0.6485])), ('bias', tensor([0.3218]))])\n",
            "epoch = 150 | train loss: 0.0072835334576666355 | test loss: 0.016474086791276932\n",
            "OrderedDict([('weight', tensor([0.6654])), ('bias', tensor([0.3143]))])\n",
            "epoch = 160 | train loss: 0.0038517764769494534 | test loss: 0.008201557211577892\n",
            "OrderedDict([('weight', tensor([0.6826])), ('bias', tensor([0.3073]))])\n",
            "epoch = 170 | train loss: 0.008932482451200485 | test loss: 0.005023092031478882\n",
            "OrderedDict([('weight', tensor([0.6951])), ('bias', tensor([0.2993]))])\n",
            "epoch = 180 | train loss: 0.008932482451200485 | test loss: 0.005023092031478882\n",
            "OrderedDict([('weight', tensor([0.6951])), ('bias', tensor([0.2993]))])\n",
            "epoch = 190 | train loss: 0.008932482451200485 | test loss: 0.005023092031478882\n",
            "OrderedDict([('weight', tensor([0.6951])), ('bias', tensor([0.2993]))])\n"
          ]
        }
      ]
    },
    {
      "cell_type": "code",
      "source": [
        "plot_predictions(predictions = test_pred)"
      ],
      "metadata": {
        "colab": {
          "base_uri": "https://localhost:8080/",
          "height": 522
        },
        "id": "JPzc-F_dhb6p",
        "outputId": "aeb7207c-9aa7-4abf-d7e0-e24289d5300d"
      },
      "execution_count": null,
      "outputs": [
        {
          "output_type": "display_data",
          "data": {
            "text/plain": [
              "<Figure size 800x600 with 1 Axes>"
            ],
            "image/png": "[encoded data removed]"
          },
          "metadata": {}
        }
      ]
    },
    {
      "cell_type": "code",
      "source": [
        "import numpy as np\n",
        "(torch.tensor(train_loss_values).numpy())"
      ],
      "metadata": {
        "colab": {
          "base_uri": "https://localhost:8080/"
        },
        "id": "lx10fsT7WTbw",
        "outputId": "e56dc840-5554-41af-9d09-cdc8c2a029cb"
      },
      "execution_count": null,
      "outputs": [
        {
          "output_type": "execute_result",
          "data": {
            "text/plain": [
              "array([0.31288138, 0.30136034, 0.28983936, 0.27831835, 0.26679736,\n",
              "       0.25527635, 0.24375534, 0.23223433, 0.22071333, 0.20919232,\n",
              "       0.19767132, 0.18615034, 0.17462933, 0.16310832, 0.15158734,\n",
              "       0.14006636, 0.12854536, 0.11702438, 0.10609122, 0.09681284,\n",
              "       0.08908726, 0.08227583, 0.07638873, 0.07160007, 0.06747635,\n",
              "       0.06395438, 0.06097005, 0.05845819, 0.05635259, 0.05458578,\n",
              "       0.05314853, 0.05181945, 0.05069301, 0.04982285, 0.04895269,\n",
              "       0.04819351, 0.04753182, 0.04692793, 0.04642332, 0.04591871,\n",
              "       0.04543797, 0.04503796, 0.04463796, 0.04423796, 0.04383796,\n",
              "       0.04343796, 0.04307463, 0.04272563, 0.04237663, 0.04202763,\n",
              "       0.04167863, 0.04132963, 0.04098063, 0.04063163, 0.04028264,\n",
              "       0.03993364, 0.03958464, 0.03923564, 0.03888664, 0.03853764,\n",
              "       0.03818933, 0.03785244, 0.03750344, 0.03716412, 0.03681822,\n",
              "       0.03647511, 0.03613304, 0.0357861 , 0.03544784, 0.03509884,\n",
              "       0.0347609 , 0.03441364, 0.03407188, 0.03372844, 0.03338287,\n",
              "       0.03304323, 0.03269423, 0.03235766, 0.03200904, 0.03166865,\n",
              "       0.03132383, 0.03097964, 0.03063862, 0.03029063, 0.02995343,\n",
              "       0.02960443, 0.02926542, 0.02891922, 0.02857641, 0.02823403,\n",
              "       0.0278874 , 0.02754883, 0.02719982, 0.02686219, 0.02651462,\n",
              "       0.02617318, 0.02582942, 0.02548417, 0.02514421, 0.02479522,\n",
              "       0.02445896, 0.02411001, 0.02376995, 0.02342481, 0.02308094,\n",
              "       0.02273961, 0.02239193, 0.02205441, 0.02170541, 0.02136672,\n",
              "       0.02102021, 0.02067771, 0.020335  , 0.0199887 , 0.0196498 ,\n",
              "       0.01930081, 0.01896349, 0.0186156 , 0.01827448, 0.0179304 ,\n",
              "       0.01758547, 0.0172452 , 0.01689645, 0.01656   , 0.016211  ,\n",
              "       0.01587125, 0.0155258 , 0.01518224, 0.0148406 , 0.01449323,\n",
              "       0.01415539, 0.0138064 , 0.01346802, 0.01312119, 0.01277901,\n",
              "       0.01243599, 0.01209   , 0.0117508 , 0.01140179, 0.01106479,\n",
              "       0.01071659, 0.01037578, 0.01003139, 0.00968676, 0.00934619,\n",
              "       0.00899776, 0.00866098, 0.00831199, 0.00797254, 0.00762679,\n",
              "       0.00728353, 0.00694158, 0.00659453, 0.00625638, 0.00590738,\n",
              "       0.00556932, 0.00522218, 0.00488031, 0.00453698, 0.0041913 ,\n",
              "       0.00385178, 0.00350277, 0.00316608, 0.00281757, 0.00247707,\n",
              "       0.00213237, 0.00178806, 0.00145183, 0.00118878, 0.00258851,\n",
              "       0.00893248, 0.00258851, 0.00893248, 0.00258851, 0.00893248,\n",
              "       0.00258851, 0.00893248, 0.00258851, 0.00893248, 0.00258851,\n",
              "       0.00893248, 0.00258851, 0.00893248, 0.00258851, 0.00893248,\n",
              "       0.00258851, 0.00893248, 0.00258851, 0.00893248, 0.00258851,\n",
              "       0.00893248, 0.00258851, 0.00893248, 0.00258851, 0.00893248,\n",
              "       0.00258851, 0.00893248, 0.00258851, 0.00893248, 0.00258851],\n",
              "      dtype=float32)"
            ]
          },
          "metadata": {},
          "execution_count": 16
        }
      ]
    },
    {
      "cell_type": "code",
      "source": [
        "train_loss_values = torch.tensor(train_loss_values).numpy()\n",
        "test_loss_values = torch.tensor(test_loss_values).numpy()\n",
        "\n",
        "plt.plot( epoch_count,train_loss_values, label= \"Train loss\")\n",
        "plt.plot( epoch_count,test_loss_values, label= \"Test loss\")\n",
        "plt.title(\"Loss curve\")\n",
        "plt.legend() ;"
      ],
      "metadata": {
        "colab": {
          "base_uri": "https://localhost:8080/",
          "height": 452
        },
        "id": "ui8KJ9feiLED",
        "outputId": "465fb4a5-5ddb-4b9b-a6fc-823dc775eacc"
      },
      "execution_count": null,
      "outputs": [
        {
          "output_type": "display_data",
          "data": {
            "text/plain": [
              "<Figure size 640x480 with 1 Axes>"
            ],
            "image/png": "[encoded data removed]"
          },
          "metadata": {}
        }
      ]
    },
    {
      "cell_type": "markdown",
      "source": [
        "#Saving a model in pytorch\n",
        "1. torch.save() : Allows you to save a Pytorch object in Python's pickle format\n",
        "2. torch.load() : Allows you load a saved pytorch object\n",
        "3. torch.nn.Module.load_state_dict()- This allows to load a model's saved state dictionary"
      ],
      "metadata": {
        "id": "SYQkOs8iAI-C"
      }
    },
    {
      "cell_type": "code",
      "source": [
        "!pip install pathlib"
      ],
      "metadata": {
        "colab": {
          "base_uri": "https://localhost:8080/"
        },
        "id": "K5Undm1qhDeH",
        "outputId": "b63197ae-4e64-44ee-fe76-ac456a233d16"
      },
      "execution_count": null,
      "outputs": [
        {
          "output_type": "stream",
          "name": "stdout",
          "text": [
            "Requirement already satisfied: pathlib in /usr/local/lib/python3.10/dist-packages (1.0.1)\n"
          ]
        }
      ]
    },
    {
      "cell_type": "code",
      "source": [
        "#Saving our PyTorch model\n",
        "from pathlib import Path\n",
        "\n",
        "#1. Creating model directory\n",
        "MODEL_PATH = Path(\"models\")\n",
        "MODEL_PATH.mkdir(parents=True, exist_ok=True)\n",
        "\n",
        "#2. Create model save path\n",
        "MODEL_NAME = \"01_pytorch_model_0.pth\"\n",
        "MODEL_SAVE_PATH = MODEL_PATH / MODEL_NAME\n",
        "\n",
        "MODEL_SAVE_PATH\n",
        "#3. Save the model state dict\n",
        "torch.save(model_0.state_dict(),MODEL_SAVE_PATH)"
      ],
      "metadata": {
        "id": "7li9tDizYi3e"
      },
      "execution_count": null,
      "outputs": []
    },
    {
      "cell_type": "code",
      "source": [
        "!ls -l models"
      ],
      "metadata": {
        "colab": {
          "base_uri": "https://localhost:8080/"
        },
        "id": "crR7yj9Ilm9o",
        "outputId": "addfa413-c02d-4436-880f-a82de495a2a4"
      },
      "execution_count": null,
      "outputs": [
        {
          "output_type": "stream",
          "name": "stdout",
          "text": [
            "total 4\n",
            "-rw-r--r-- 1 root root 1107 Oct 12 09:07 01_pytorch_model_0.pth\n"
          ]
        }
      ]
    },
    {
      "cell_type": "code",
      "source": [
        "# To load in a saved state_dict we have to instantiate a new instance of our model class\n",
        "loaded_model_0 = linearRegressionModel()\n",
        "#Load the saved state_dict of model_0 (this will update the new instance with updated parameters)\n",
        "loaded_model_0.load_state_dict(torch.load(f=MODEL_SAVE_PATH))\n"
      ],
      "metadata": {
        "colab": {
          "base_uri": "https://localhost:8080/"
        },
        "id": "d3srH2tDmEG9",
        "outputId": "a517fa73-b763-4340-e438-109702ad5483"
      },
      "execution_count": null,
      "outputs": [
        {
          "output_type": "execute_result",
          "data": {
            "text/plain": [
              "<All keys matched successfully>"
            ]
          },
          "metadata": {},
          "execution_count": 21
        }
      ]
    },
    {
      "cell_type": "code",
      "source": [
        "loaded_model_0.state_dict()"
      ],
      "metadata": {
        "colab": {
          "base_uri": "https://localhost:8080/"
        },
        "id": "Y9kDUX5IRxCh",
        "outputId": "c465f935-9f0e-41c7-ac0a-1c2228db7f1d"
      },
      "execution_count": null,
      "outputs": [
        {
          "output_type": "execute_result",
          "data": {
            "text/plain": [
              "OrderedDict([('weight', tensor([0.6990])), ('bias', tensor([0.3093]))])"
            ]
          },
          "metadata": {},
          "execution_count": 22
        }
      ]
    },
    {
      "cell_type": "code",
      "source": [
        "loaded_model_0.eval()\n",
        "with torch.inference_mode():\n",
        "  loaded_model_preds = loaded_model_0(X_test)\n",
        "loaded_model_preds"
      ],
      "metadata": {
        "colab": {
          "base_uri": "https://localhost:8080/"
        },
        "id": "2E-27JlKIh8f",
        "outputId": "86406aba-6403-4f84-d6e1-a946fa449818"
      },
      "execution_count": null,
      "outputs": [
        {
          "output_type": "execute_result",
          "data": {
            "text/plain": [
              "tensor([[0.8685],\n",
              "        [0.8825],\n",
              "        [0.8965],\n",
              "        [0.9105],\n",
              "        [0.9245],\n",
              "        [0.9384],\n",
              "        [0.9524],\n",
              "        [0.9664],\n",
              "        [0.9804],\n",
              "        [0.9944]])"
            ]
          },
          "metadata": {},
          "execution_count": 24
        }
      ]
    },
    {
      "cell_type": "code",
      "source": [
        "y_pred = model_0(X_test)\n",
        "y_pred"
      ],
      "metadata": {
        "colab": {
          "base_uri": "https://localhost:8080/"
        },
        "id": "O_maOMgYJN0B",
        "outputId": "c7bb0a7b-386b-4f68-f94e-fa1b9d0d1dc5"
      },
      "execution_count": null,
      "outputs": [
        {
          "output_type": "execute_result",
          "data": {
            "text/plain": [
              "tensor([[0.8685],\n",
              "        [0.8825],\n",
              "        [0.8965],\n",
              "        [0.9105],\n",
              "        [0.9245],\n",
              "        [0.9384],\n",
              "        [0.9524],\n",
              "        [0.9664],\n",
              "        [0.9804],\n",
              "        [0.9944]], grad_fn=<AddBackward0>)"
            ]
          },
          "metadata": {},
          "execution_count": 27
        }
      ]
    },
    {
      "cell_type": "code",
      "source": [
        "y_pred == loaded_model_preds\n"
      ],
      "metadata": {
        "colab": {
          "base_uri": "https://localhost:8080/"
        },
        "id": "Ro9a_LArJh2j",
        "outputId": "ff2885e4-f204-4f0e-b187-63e88b5e0731"
      },
      "execution_count": null,
      "outputs": [
        {
          "output_type": "execute_result",
          "data": {
            "text/plain": [
              "tensor([[True],\n",
              "        [True],\n",
              "        [True],\n",
              "        [True],\n",
              "        [True],\n",
              "        [True],\n",
              "        [True],\n",
              "        [True],\n",
              "        [True],\n",
              "        [True]])"
            ]
          },
          "metadata": {},
          "execution_count": 29
        }
      ]
    },
    {
      "cell_type": "code",
      "source": [
        "class LinearRegressionModelV2(nn.Module):\n",
        "  def __init__(self):\n",
        "    super().__init__()\n",
        "    #using nn.layers to create parameters\n",
        "    self.linear_layer = nn.Linear(in_features = 1, out_features = 1)\n",
        "\n",
        "  def forward(self,x: torch.tensor) -> torch.tensor :\n",
        "    return self.linear_layer(x)\n",
        "\n",
        "torch.manual_seed(42)\n",
        "model_1 = LinearRegressionModelV2()\n",
        "model_1.state_dict()"
      ],
      "metadata": {
        "colab": {
          "base_uri": "https://localhost:8080/"
        },
        "id": "F6H3q4RKTKEq",
        "outputId": "4882021e-7528-43bd-cf0b-1a73714f9d5a"
      },
      "execution_count": null,
      "outputs": [
        {
          "output_type": "execute_result",
          "data": {
            "text/plain": [
              "OrderedDict([('linear_layer.weight', tensor([[0.7645]])),\n",
              "             ('linear_layer.bias', tensor([0.8300]))])"
            ]
          },
          "metadata": {},
          "execution_count": 39
        }
      ]
    }
  ]
}