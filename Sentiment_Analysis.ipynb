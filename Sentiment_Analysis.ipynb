{
  "nbformat": 4,
  "nbformat_minor": 0,
  "metadata": {
    "colab": {
      "provenance": [],
      "toc_visible": true,
      "authorship_tag": "ABX9TyPz6Y+6LvR6aVcFc0tawUxb",
      "include_colab_link": true
    },
    "kernelspec": {
      "name": "python3",
      "display_name": "Python 3"
    },
    "language_info": {
      "name": "python"
    }
  },
  "cells": [
    {
      "cell_type": "markdown",
      "metadata": {
        "id": "view-in-github",
        "colab_type": "text"
      },
      "source": [
        "<a href=\"https://colab.research.google.com/github/aishwary247/Deep-Learning/blob/main/Sentiment_Analysis.ipynb\" target=\"_parent\"><img src=\"https://colab.research.google.com/assets/colab-badge.svg\" alt=\"Open In Colab\"/></a>"
      ]
    },
    {
      "cell_type": "code",
      "execution_count": null,
      "metadata": {
        "id": "ZPIgAaC746iy"
      },
      "outputs": [],
      "source": [
        "import numpy as np\n",
        "import pandas as pd\n",
        "import matplotlib.pyplot as plt"
      ]
    },
    {
      "cell_type": "code",
      "source": [
        "!pip install unidecode"
      ],
      "metadata": {
        "colab": {
          "base_uri": "https://localhost:8080/"
        },
        "id": "_LTxed-_qGVl",
        "outputId": "af104851-d1f8-41ff-a382-f6dbe820815b"
      },
      "execution_count": null,
      "outputs": [
        {
          "output_type": "stream",
          "name": "stdout",
          "text": [
            "Collecting unidecode\n",
            "  Downloading Unidecode-1.3.8-py3-none-any.whl (235 kB)\n",
            "\u001b[2K     \u001b[90m━━━━━━━━━━━━━━━━━━━━━━━━━━━━━━━━━━━━━━━━\u001b[0m \u001b[32m235.5/235.5 kB\u001b[0m \u001b[31m4.5 MB/s\u001b[0m eta \u001b[36m0:00:00\u001b[0m\n",
            "\u001b[?25hInstalling collected packages: unidecode\n",
            "Successfully installed unidecode-1.3.8\n"
          ]
        }
      ]
    },
    {
      "cell_type": "code",
      "source": [
        "df = pd.read_csv('/content/Corona_train.csv')\n",
        "df_test = pd.read_csv(\"/content/Corona_validation.csv\")\n",
        "df.head()"
      ],
      "metadata": {
        "colab": {
          "base_uri": "https://localhost:8080/",
          "height": 206
        },
        "id": "jrIK63J15N64",
        "outputId": "1dfa38d3-9eed-4091-bc06-dee5e1a04994"
      },
      "execution_count": null,
      "outputs": [
        {
          "output_type": "execute_result",
          "data": {
            "text/plain": [
              "      ID Sentiment                                        CoronaTweet\n",
              "0  22979  Positive  I see all kinds of academics already whipping ...\n",
              "1   9880  Negative  @HenrySmithUK can you raise with Boris please ...\n",
              "2  35761  Negative  It s a confusing odd time for the shopping pub...\n",
              "3  37968  Positive  Blog Summary: The Impact of COVID-19 on the Ca...\n",
              "4  19709   Neutral  ??????? ??????? ???\\r\\r\\nWaiting in a long Que..."
            ],
            "text/html": [
              "\n",
              "  <div id=\"df-1568cd4a-b9d4-45db-b1fe-7f6c793428ad\" class=\"colab-df-container\">\n",
              "    <div>\n",
              "<style scoped>\n",
              "    .dataframe tbody tr th:only-of-type {\n",
              "        vertical-align: middle;\n",
              "    }\n",
              "\n",
              "    .dataframe tbody tr th {\n",
              "        vertical-align: top;\n",
              "    }\n",
              "\n",
              "    .dataframe thead th {\n",
              "        text-align: right;\n",
              "    }\n",
              "</style>\n",
              "<table border=\"1\" class=\"dataframe\">\n",
              "  <thead>\n",
              "    <tr style=\"text-align: right;\">\n",
              "      <th></th>\n",
              "      <th>ID</th>\n",
              "      <th>Sentiment</th>\n",
              "      <th>CoronaTweet</th>\n",
              "    </tr>\n",
              "  </thead>\n",
              "  <tbody>\n",
              "    <tr>\n",
              "      <th>0</th>\n",
              "      <td>22979</td>\n",
              "      <td>Positive</td>\n",
              "      <td>I see all kinds of academics already whipping ...</td>\n",
              "    </tr>\n",
              "    <tr>\n",
              "      <th>1</th>\n",
              "      <td>9880</td>\n",
              "      <td>Negative</td>\n",
              "      <td>@HenrySmithUK can you raise with Boris please ...</td>\n",
              "    </tr>\n",
              "    <tr>\n",
              "      <th>2</th>\n",
              "      <td>35761</td>\n",
              "      <td>Negative</td>\n",
              "      <td>It s a confusing odd time for the shopping pub...</td>\n",
              "    </tr>\n",
              "    <tr>\n",
              "      <th>3</th>\n",
              "      <td>37968</td>\n",
              "      <td>Positive</td>\n",
              "      <td>Blog Summary: The Impact of COVID-19 on the Ca...</td>\n",
              "    </tr>\n",
              "    <tr>\n",
              "      <th>4</th>\n",
              "      <td>19709</td>\n",
              "      <td>Neutral</td>\n",
              "      <td>??????? ??????? ???\\r\\r\\nWaiting in a long Que...</td>\n",
              "    </tr>\n",
              "  </tbody>\n",
              "</table>\n",
              "</div>\n",
              "    <div class=\"colab-df-buttons\">\n",
              "\n",
              "  <div class=\"colab-df-container\">\n",
              "    <button class=\"colab-df-convert\" onclick=\"convertToInteractive('df-1568cd4a-b9d4-45db-b1fe-7f6c793428ad')\"\n",
              "            title=\"Convert this dataframe to an interactive table.\"\n",
              "            style=\"display:none;\">\n",
              "\n",
              "  <svg xmlns=\"http://www.w3.org/2000/svg\" height=\"24px\" viewBox=\"0 -960 960 960\">\n",
              "    <path d=\"M120-120v-720h720v720H120Zm60-500h600v-160H180v160Zm220 220h160v-160H400v160Zm0 220h160v-160H400v160ZM180-400h160v-160H180v160Zm440 0h160v-160H620v160ZM180-180h160v-160H180v160Zm440 0h160v-160H620v160Z\"/>\n",
              "  </svg>\n",
              "    </button>\n",
              "\n",
              "  <style>\n",
              "    .colab-df-container {\n",
              "      display:flex;\n",
              "      gap: 12px;\n",
              "    }\n",
              "\n",
              "    .colab-df-convert {\n",
              "      background-color: #E8F0FE;\n",
              "      border: none;\n",
              "      border-radius: 50%;\n",
              "      cursor: pointer;\n",
              "      display: none;\n",
              "      fill: #1967D2;\n",
              "      height: 32px;\n",
              "      padding: 0 0 0 0;\n",
              "      width: 32px;\n",
              "    }\n",
              "\n",
              "    .colab-df-convert:hover {\n",
              "      background-color: #E2EBFA;\n",
              "      box-shadow: 0px 1px 2px rgba(60, 64, 67, 0.3), 0px 1px 3px 1px rgba(60, 64, 67, 0.15);\n",
              "      fill: #174EA6;\n",
              "    }\n",
              "\n",
              "    .colab-df-buttons div {\n",
              "      margin-bottom: 4px;\n",
              "    }\n",
              "\n",
              "    [theme=dark] .colab-df-convert {\n",
              "      background-color: #3B4455;\n",
              "      fill: #D2E3FC;\n",
              "    }\n",
              "\n",
              "    [theme=dark] .colab-df-convert:hover {\n",
              "      background-color: #434B5C;\n",
              "      box-shadow: 0px 1px 3px 1px rgba(0, 0, 0, 0.15);\n",
              "      filter: drop-shadow(0px 1px 2px rgba(0, 0, 0, 0.3));\n",
              "      fill: #FFFFFF;\n",
              "    }\n",
              "  </style>\n",
              "\n",
              "    <script>\n",
              "      const buttonEl =\n",
              "        document.querySelector('#df-1568cd4a-b9d4-45db-b1fe-7f6c793428ad button.colab-df-convert');\n",
              "      buttonEl.style.display =\n",
              "        google.colab.kernel.accessAllowed ? 'block' : 'none';\n",
              "\n",
              "      async function convertToInteractive(key) {\n",
              "        const element = document.querySelector('#df-1568cd4a-b9d4-45db-b1fe-7f6c793428ad');\n",
              "        const dataTable =\n",
              "          await google.colab.kernel.invokeFunction('convertToInteractive',\n",
              "                                                    [key], {});\n",
              "        if (!dataTable) return;\n",
              "\n",
              "        const docLinkHtml = 'Like what you see? Visit the ' +\n",
              "          '<a target=\"_blank\" href=https://colab.research.google.com/notebooks/data_table.ipynb>data table notebook</a>'\n",
              "          + ' to learn more about interactive tables.';\n",
              "        element.innerHTML = '';\n",
              "        dataTable['output_type'] = 'display_data';\n",
              "        await google.colab.output.renderOutput(dataTable, element);\n",
              "        const docLink = document.createElement('div');\n",
              "        docLink.innerHTML = docLinkHtml;\n",
              "        element.appendChild(docLink);\n",
              "      }\n",
              "    </script>\n",
              "  </div>\n",
              "\n",
              "\n",
              "<div id=\"df-9292c8fd-7e89-4cd8-8c8d-32c561e0fa35\">\n",
              "  <button class=\"colab-df-quickchart\" onclick=\"quickchart('df-9292c8fd-7e89-4cd8-8c8d-32c561e0fa35')\"\n",
              "            title=\"Suggest charts\"\n",
              "            style=\"display:none;\">\n",
              "\n",
              "<svg xmlns=\"http://www.w3.org/2000/svg\" height=\"24px\"viewBox=\"0 0 24 24\"\n",
              "     width=\"24px\">\n",
              "    <g>\n",
              "        <path d=\"M19 3H5c-1.1 0-2 .9-2 2v14c0 1.1.9 2 2 2h14c1.1 0 2-.9 2-2V5c0-1.1-.9-2-2-2zM9 17H7v-7h2v7zm4 0h-2V7h2v10zm4 0h-2v-4h2v4z\"/>\n",
              "    </g>\n",
              "</svg>\n",
              "  </button>\n",
              "\n",
              "<style>\n",
              "  .colab-df-quickchart {\n",
              "      --bg-color: #E8F0FE;\n",
              "      --fill-color: #1967D2;\n",
              "      --hover-bg-color: #E2EBFA;\n",
              "      --hover-fill-color: #174EA6;\n",
              "      --disabled-fill-color: #AAA;\n",
              "      --disabled-bg-color: #DDD;\n",
              "  }\n",
              "\n",
              "  [theme=dark] .colab-df-quickchart {\n",
              "      --bg-color: #3B4455;\n",
              "      --fill-color: #D2E3FC;\n",
              "      --hover-bg-color: #434B5C;\n",
              "      --hover-fill-color: #FFFFFF;\n",
              "      --disabled-bg-color: #3B4455;\n",
              "      --disabled-fill-color: #666;\n",
              "  }\n",
              "\n",
              "  .colab-df-quickchart {\n",
              "    background-color: var(--bg-color);\n",
              "    border: none;\n",
              "    border-radius: 50%;\n",
              "    cursor: pointer;\n",
              "    display: none;\n",
              "    fill: var(--fill-color);\n",
              "    height: 32px;\n",
              "    padding: 0;\n",
              "    width: 32px;\n",
              "  }\n",
              "\n",
              "  .colab-df-quickchart:hover {\n",
              "    background-color: var(--hover-bg-color);\n",
              "    box-shadow: 0 1px 2px rgba(60, 64, 67, 0.3), 0 1px 3px 1px rgba(60, 64, 67, 0.15);\n",
              "    fill: var(--button-hover-fill-color);\n",
              "  }\n",
              "\n",
              "  .colab-df-quickchart-complete:disabled,\n",
              "  .colab-df-quickchart-complete:disabled:hover {\n",
              "    background-color: var(--disabled-bg-color);\n",
              "    fill: var(--disabled-fill-color);\n",
              "    box-shadow: none;\n",
              "  }\n",
              "\n",
              "  .colab-df-spinner {\n",
              "    border: 2px solid var(--fill-color);\n",
              "    border-color: transparent;\n",
              "    border-bottom-color: var(--fill-color);\n",
              "    animation:\n",
              "      spin 1s steps(1) infinite;\n",
              "  }\n",
              "\n",
              "  @keyframes spin {\n",
              "    0% {\n",
              "      border-color: transparent;\n",
              "      border-bottom-color: var(--fill-color);\n",
              "      border-left-color: var(--fill-color);\n",
              "    }\n",
              "    20% {\n",
              "      border-color: transparent;\n",
              "      border-left-color: var(--fill-color);\n",
              "      border-top-color: var(--fill-color);\n",
              "    }\n",
              "    30% {\n",
              "      border-color: transparent;\n",
              "      border-left-color: var(--fill-color);\n",
              "      border-top-color: var(--fill-color);\n",
              "      border-right-color: var(--fill-color);\n",
              "    }\n",
              "    40% {\n",
              "      border-color: transparent;\n",
              "      border-right-color: var(--fill-color);\n",
              "      border-top-color: var(--fill-color);\n",
              "    }\n",
              "    60% {\n",
              "      border-color: transparent;\n",
              "      border-right-color: var(--fill-color);\n",
              "    }\n",
              "    80% {\n",
              "      border-color: transparent;\n",
              "      border-right-color: var(--fill-color);\n",
              "      border-bottom-color: var(--fill-color);\n",
              "    }\n",
              "    90% {\n",
              "      border-color: transparent;\n",
              "      border-bottom-color: var(--fill-color);\n",
              "    }\n",
              "  }\n",
              "</style>\n",
              "\n",
              "  <script>\n",
              "    async function quickchart(key) {\n",
              "      const quickchartButtonEl =\n",
              "        document.querySelector('#' + key + ' button');\n",
              "      quickchartButtonEl.disabled = true;  // To prevent multiple clicks.\n",
              "      quickchartButtonEl.classList.add('colab-df-spinner');\n",
              "      try {\n",
              "        const charts = await google.colab.kernel.invokeFunction(\n",
              "            'suggestCharts', [key], {});\n",
              "      } catch (error) {\n",
              "        console.error('Error during call to suggestCharts:', error);\n",
              "      }\n",
              "      quickchartButtonEl.classList.remove('colab-df-spinner');\n",
              "      quickchartButtonEl.classList.add('colab-df-quickchart-complete');\n",
              "    }\n",
              "    (() => {\n",
              "      let quickchartButtonEl =\n",
              "        document.querySelector('#df-9292c8fd-7e89-4cd8-8c8d-32c561e0fa35 button');\n",
              "      quickchartButtonEl.style.display =\n",
              "        google.colab.kernel.accessAllowed ? 'block' : 'none';\n",
              "    })();\n",
              "  </script>\n",
              "</div>\n",
              "\n",
              "    </div>\n",
              "  </div>\n"
            ],
            "application/vnd.google.colaboratory.intrinsic+json": {
              "type": "dataframe",
              "variable_name": "df",
              "summary": "{\n  \"name\": \"df\",\n  \"rows\": 37864,\n  \"fields\": [\n    {\n      \"column\": \"ID\",\n      \"properties\": {\n        \"dtype\": \"number\",\n        \"std\": 11885,\n        \"min\": 0,\n        \"max\": 41156,\n        \"num_unique_values\": 37864,\n        \"samples\": [\n          8632,\n          4152,\n          37427\n        ],\n        \"semantic_type\": \"\",\n        \"description\": \"\"\n      }\n    },\n    {\n      \"column\": \"Sentiment\",\n      \"properties\": {\n        \"dtype\": \"category\",\n        \"num_unique_values\": 3,\n        \"samples\": [\n          \"Positive\",\n          \"Negative\",\n          \"Neutral\"\n        ],\n        \"semantic_type\": \"\",\n        \"description\": \"\"\n      }\n    },\n    {\n      \"column\": \"CoronaTweet\",\n      \"properties\": {\n        \"dtype\": \"string\",\n        \"num_unique_values\": 37864,\n        \"samples\": [\n          \"Looks like this week we won t be able to get our regular week s worth of simple grocery and food items due to other people hoarding and panic buying Wow This sucks\",\n          \"End of day 1 of being unemployed thoughts: \\r\\r\\n- what is a bra?\\r\\r\\n- will I be able to afford food after I  bored eat my stock.. probably not \\r\\r\\n- i will never complain about work again\\r\\r\\n- i never want to hear the word #coronavirus again after all this. \\r\\r\\nThanks for coming to my ted talk\",\n          \"Latest coronavirus update from me for Thursday night, 4/9 https://t.co/uEhypqBHDV\"\n        ],\n        \"semantic_type\": \"\",\n        \"description\": \"\"\n      }\n    }\n  ]\n}"
            }
          },
          "metadata": {},
          "execution_count": 12
        }
      ]
    },
    {
      "cell_type": "markdown",
      "source": [
        "# Text Preprocessing"
      ],
      "metadata": {
        "id": "L-bDHUZO3_AZ"
      }
    },
    {
      "cell_type": "code",
      "source": [
        "df_original = df.copy()\n",
        "df_test_original = df_test.copy()"
      ],
      "metadata": {
        "id": "vUhc4G9XuH-e"
      },
      "execution_count": null,
      "outputs": []
    },
    {
      "cell_type": "code",
      "source": [
        "import nltk\n",
        "nltk.download('punkt')\n",
        "from nltk.corpus import stopwords\n",
        "nltk.download('stopwords')\n",
        "stwords = stopwords.words('english')"
      ],
      "metadata": {
        "id": "mZB_XSTt97IN",
        "colab": {
          "base_uri": "https://localhost:8080/"
        },
        "outputId": "d43a0ee1-40fe-4ced-f1a3-4f2238ed76ec"
      },
      "execution_count": null,
      "outputs": [
        {
          "output_type": "stream",
          "name": "stderr",
          "text": [
            "[nltk_data] Downloading package punkt to /root/nltk_data...\n",
            "[nltk_data]   Package punkt is already up-to-date!\n",
            "[nltk_data] Downloading package stopwords to /root/nltk_data...\n",
            "[nltk_data]   Package stopwords is already up-to-date!\n"
          ]
        }
      ]
    },
    {
      "cell_type": "code",
      "source": [
        "text = \"Hey covid19\"\n",
        "text = re.sub('[^a-zA-Z\\s]', '', text)\n",
        "text"
      ],
      "metadata": {
        "colab": {
          "base_uri": "https://localhost:8080/",
          "height": 35
        },
        "id": "RuH_m8L1sfMu",
        "outputId": "b4805ad3-71eb-41c4-d3de-2e8f0fa5b1d9"
      },
      "execution_count": null,
      "outputs": [
        {
          "output_type": "execute_result",
          "data": {
            "text/plain": [
              "'Hey covid'"
            ],
            "application/vnd.google.colaboratory.intrinsic+json": {
              "type": "string"
            }
          },
          "metadata": {},
          "execution_count": 14
        }
      ]
    },
    {
      "cell_type": "code",
      "source": [
        "# import re\n",
        "# from nltk.stem.porter import PorterStemmer\n",
        "# from unidecode import unidecode\n",
        "\n",
        "\n",
        "# # Removing URL's\n",
        "# def remove_url(text):\n",
        "#   pattern = re.compile(r'https?://\\S+|www\\.\\S+')\n",
        "#   return pattern.sub(r'',text)\n",
        "\n",
        "\n",
        "# # Define a function for text cleaning\n",
        "# def clean_text(text):\n",
        "#     if pd.notnull(text) and isinstance(text, str):\n",
        "#         text = text.lower()\n",
        "#         text = re.sub('<br />', '', text)\n",
        "#         text = re.sub('\\n', '', text)\n",
        "#         # text = re.sub('[^\\w\\s]', '', text)\n",
        "#         text = re.sub('[^a-zA-Z\\s]', '', text)\n",
        "#     return text\n",
        "\n",
        "# ps = PorterStemmer()\n",
        "\n",
        "# def stem(text):\n",
        "#   y=[]\n",
        "#   for i in text.split() :\n",
        "#     y.append(ps.stem(i))\n",
        "\n",
        "#   return \" \".join(y)\n",
        "\n",
        "# def remove_stopwords(text):\n",
        "#     stop_words = set(stopwords.words('english'))\n",
        "#     words = nltk.word_tokenize(text)\n",
        "#     filtered_words = [word for word in words if word.lower() not in stop_words]\n",
        "#     return ' '.join(filtered_words)\n",
        "\n",
        "\n",
        "# def strip_accents(text):\n",
        "#     return unidecode(text)"
      ],
      "metadata": {
        "id": "o3KbTmzl5Rkf"
      },
      "execution_count": null,
      "outputs": []
    },
    {
      "cell_type": "code",
      "source": [
        "import re\n",
        "from nltk.stem.porter import PorterStemmer\n",
        "from unidecode import unidecode\n",
        "def preprocess_text(text):\n",
        "  \"\"\"\n",
        "  This function preprocesses text data for further analysis.\n",
        "\n",
        "  Args:\n",
        "      text (str): The text string to be preprocessed.\n",
        "\n",
        "  Returns:\n",
        "      str: The preprocessed text string.\n",
        "  \"\"\"\n",
        "  if pd.notnull(text) and isinstance(text, str):\n",
        "\n",
        "    pattern = re.compile(r'https?://\\S+|www\\.\\S+')\n",
        "    text = pattern.sub(r'',text)\n",
        "    # Lowercase\n",
        "    text = text.lower()\n",
        "\n",
        "    # Remove HTML tags and newlines\n",
        "    text = re.sub('<br />', '', text)\n",
        "    text = re.sub('\\n', '', text)\n",
        "\n",
        "    text = re.sub('[^a-zA-Z\\s]', '', text)\n",
        "\n",
        "\n",
        "    # Stemming\n",
        "    ps = PorterStemmer()\n",
        "    text = \" \".join([ps.stem(i) for i in text.split()])\n",
        "\n",
        "    # Remove stop words\n",
        "    stop_words = set(stopwords.words('english'))\n",
        "    words = nltk.word_tokenize(text)\n",
        "    filtered_words = [word for word in words if word.lower() not in stop_words]\n",
        "    text = ' '.join(filtered_words)\n",
        "\n",
        "    # Remove accents\n",
        "    text = unidecode(text)\n",
        "\n",
        "    return text\n"
      ],
      "metadata": {
        "id": "xK_EXaNbs-ds"
      },
      "execution_count": null,
      "outputs": []
    },
    {
      "cell_type": "code",
      "source": [
        "import time\n",
        "\n",
        "start = time.time()\n",
        "\n",
        "df[\"CoronaTweet\"] = df[\"CoronaTweet\"].apply(preprocess_text)\n",
        "\n",
        "time1 = time.time()-start\n",
        "df_test[\"CoronaTweet\"] = df_test[\"CoronaTweet\"].apply(preprocess_text)\n",
        "\n",
        "time2 = time.time()-start - time1\n",
        "\n",
        "print(f\"Time1: {time1} Time2: {time2}\")"
      ],
      "metadata": {
        "colab": {
          "base_uri": "https://localhost:8080/"
        },
        "id": "pI9wYz81vLZY",
        "outputId": "efbe39a4-dd24-49d6-9308-48ca1845395b"
      },
      "execution_count": null,
      "outputs": [
        {
          "output_type": "stream",
          "name": "stdout",
          "text": [
            "Time1: 41.435137033462524 Time2: 3.137101173400879\n"
          ]
        }
      ]
    },
    {
      "cell_type": "code",
      "source": [
        "# df[\"CoronaTweet\"]= df[\"CoronaTweet\"].apply(remove_url)\n",
        "# df[\"CoronaTweet\"]= df[\"CoronaTweet\"].apply(clean_text)\n",
        "# df[\"CoronaTweet\"]= df[\"CoronaTweet\"].apply(stem)\n",
        "# df[\"CoronaTweet\"]= df[\"CoronaTweet\"].apply(remove_stopwords)\n",
        "# df[\"CoronaTweet\"]= df[\"CoronaTweet\"].apply(strip_accents)"
      ],
      "metadata": {
        "id": "1Em0efGR8cf3"
      },
      "execution_count": null,
      "outputs": []
    },
    {
      "cell_type": "code",
      "source": [
        "df"
      ],
      "metadata": {
        "colab": {
          "base_uri": "https://localhost:8080/",
          "height": 424
        },
        "id": "ej3DSvJ6ww13",
        "outputId": "a1cd7854-9220-4ff6-8790-ad7dd0230527"
      },
      "execution_count": null,
      "outputs": [
        {
          "output_type": "execute_result",
          "data": {
            "text/plain": [
              "          ID Sentiment                                        CoronaTweet\n",
              "0      22979  Positive  see kind academ alreadi whip covid relat proje...\n",
              "1       9880  Negative  henrysmithuk rais bori pleas supermarket contr...\n",
              "2      35761  Negative  confus odd time shop public store close flight...\n",
              "3      37968  Positive  blog summari impact covid canadian residenti h...\n",
              "4      19709   Neutral  wait long queue enter supermarket final saw en...\n",
              "...      ...       ...                                                ...\n",
              "37859  20253   Neutral  doubl tap rememb employ follow walletgyd tip l...\n",
              "37860  38926  Positive  struggl understand whi supermarket food shop a...\n",
              "37861  35889  Positive  anyon interest checklist consum implic covid p...\n",
              "37862  40641  Positive  agre hypothesi indian societi might chang fore...\n",
              "37863  26063   Neutral  richmond local boutiqu thrift store search new...\n",
              "\n",
              "[37864 rows x 3 columns]"
            ],
            "text/html": [
              "\n",
              "  <div id=\"df-a5d7968a-31b1-48bc-a181-c86f4e17d9ed\" class=\"colab-df-container\">\n",
              "    <div>\n",
              "<style scoped>\n",
              "    .dataframe tbody tr th:only-of-type {\n",
              "        vertical-align: middle;\n",
              "    }\n",
              "\n",
              "    .dataframe tbody tr th {\n",
              "        vertical-align: top;\n",
              "    }\n",
              "\n",
              "    .dataframe thead th {\n",
              "        text-align: right;\n",
              "    }\n",
              "</style>\n",
              "<table border=\"1\" class=\"dataframe\">\n",
              "  <thead>\n",
              "    <tr style=\"text-align: right;\">\n",
              "      <th></th>\n",
              "      <th>ID</th>\n",
              "      <th>Sentiment</th>\n",
              "      <th>CoronaTweet</th>\n",
              "    </tr>\n",
              "  </thead>\n",
              "  <tbody>\n",
              "    <tr>\n",
              "      <th>0</th>\n",
              "      <td>22979</td>\n",
              "      <td>Positive</td>\n",
              "      <td>see kind academ alreadi whip covid relat proje...</td>\n",
              "    </tr>\n",
              "    <tr>\n",
              "      <th>1</th>\n",
              "      <td>9880</td>\n",
              "      <td>Negative</td>\n",
              "      <td>henrysmithuk rais bori pleas supermarket contr...</td>\n",
              "    </tr>\n",
              "    <tr>\n",
              "      <th>2</th>\n",
              "      <td>35761</td>\n",
              "      <td>Negative</td>\n",
              "      <td>confus odd time shop public store close flight...</td>\n",
              "    </tr>\n",
              "    <tr>\n",
              "      <th>3</th>\n",
              "      <td>37968</td>\n",
              "      <td>Positive</td>\n",
              "      <td>blog summari impact covid canadian residenti h...</td>\n",
              "    </tr>\n",
              "    <tr>\n",
              "      <th>4</th>\n",
              "      <td>19709</td>\n",
              "      <td>Neutral</td>\n",
              "      <td>wait long queue enter supermarket final saw en...</td>\n",
              "    </tr>\n",
              "    <tr>\n",
              "      <th>...</th>\n",
              "      <td>...</td>\n",
              "      <td>...</td>\n",
              "      <td>...</td>\n",
              "    </tr>\n",
              "    <tr>\n",
              "      <th>37859</th>\n",
              "      <td>20253</td>\n",
              "      <td>Neutral</td>\n",
              "      <td>doubl tap rememb employ follow walletgyd tip l...</td>\n",
              "    </tr>\n",
              "    <tr>\n",
              "      <th>37860</th>\n",
              "      <td>38926</td>\n",
              "      <td>Positive</td>\n",
              "      <td>struggl understand whi supermarket food shop a...</td>\n",
              "    </tr>\n",
              "    <tr>\n",
              "      <th>37861</th>\n",
              "      <td>35889</td>\n",
              "      <td>Positive</td>\n",
              "      <td>anyon interest checklist consum implic covid p...</td>\n",
              "    </tr>\n",
              "    <tr>\n",
              "      <th>37862</th>\n",
              "      <td>40641</td>\n",
              "      <td>Positive</td>\n",
              "      <td>agre hypothesi indian societi might chang fore...</td>\n",
              "    </tr>\n",
              "    <tr>\n",
              "      <th>37863</th>\n",
              "      <td>26063</td>\n",
              "      <td>Neutral</td>\n",
              "      <td>richmond local boutiqu thrift store search new...</td>\n",
              "    </tr>\n",
              "  </tbody>\n",
              "</table>\n",
              "<p>37864 rows × 3 columns</p>\n",
              "</div>\n",
              "    <div class=\"colab-df-buttons\">\n",
              "\n",
              "  <div class=\"colab-df-container\">\n",
              "    <button class=\"colab-df-convert\" onclick=\"convertToInteractive('df-a5d7968a-31b1-48bc-a181-c86f4e17d9ed')\"\n",
              "            title=\"Convert this dataframe to an interactive table.\"\n",
              "            style=\"display:none;\">\n",
              "\n",
              "  <svg xmlns=\"http://www.w3.org/2000/svg\" height=\"24px\" viewBox=\"0 -960 960 960\">\n",
              "    <path d=\"M120-120v-720h720v720H120Zm60-500h600v-160H180v160Zm220 220h160v-160H400v160Zm0 220h160v-160H400v160ZM180-400h160v-160H180v160Zm440 0h160v-160H620v160ZM180-180h160v-160H180v160Zm440 0h160v-160H620v160Z\"/>\n",
              "  </svg>\n",
              "    </button>\n",
              "\n",
              "  <style>\n",
              "    .colab-df-container {\n",
              "      display:flex;\n",
              "      gap: 12px;\n",
              "    }\n",
              "\n",
              "    .colab-df-convert {\n",
              "      background-color: #E8F0FE;\n",
              "      border: none;\n",
              "      border-radius: 50%;\n",
              "      cursor: pointer;\n",
              "      display: none;\n",
              "      fill: #1967D2;\n",
              "      height: 32px;\n",
              "      padding: 0 0 0 0;\n",
              "      width: 32px;\n",
              "    }\n",
              "\n",
              "    .colab-df-convert:hover {\n",
              "      background-color: #E2EBFA;\n",
              "      box-shadow: 0px 1px 2px rgba(60, 64, 67, 0.3), 0px 1px 3px 1px rgba(60, 64, 67, 0.15);\n",
              "      fill: #174EA6;\n",
              "    }\n",
              "\n",
              "    .colab-df-buttons div {\n",
              "      margin-bottom: 4px;\n",
              "    }\n",
              "\n",
              "    [theme=dark] .colab-df-convert {\n",
              "      background-color: #3B4455;\n",
              "      fill: #D2E3FC;\n",
              "    }\n",
              "\n",
              "    [theme=dark] .colab-df-convert:hover {\n",
              "      background-color: #434B5C;\n",
              "      box-shadow: 0px 1px 3px 1px rgba(0, 0, 0, 0.15);\n",
              "      filter: drop-shadow(0px 1px 2px rgba(0, 0, 0, 0.3));\n",
              "      fill: #FFFFFF;\n",
              "    }\n",
              "  </style>\n",
              "\n",
              "    <script>\n",
              "      const buttonEl =\n",
              "        document.querySelector('#df-a5d7968a-31b1-48bc-a181-c86f4e17d9ed button.colab-df-convert');\n",
              "      buttonEl.style.display =\n",
              "        google.colab.kernel.accessAllowed ? 'block' : 'none';\n",
              "\n",
              "      async function convertToInteractive(key) {\n",
              "        const element = document.querySelector('#df-a5d7968a-31b1-48bc-a181-c86f4e17d9ed');\n",
              "        const dataTable =\n",
              "          await google.colab.kernel.invokeFunction('convertToInteractive',\n",
              "                                                    [key], {});\n",
              "        if (!dataTable) return;\n",
              "\n",
              "        const docLinkHtml = 'Like what you see? Visit the ' +\n",
              "          '<a target=\"_blank\" href=https://colab.research.google.com/notebooks/data_table.ipynb>data table notebook</a>'\n",
              "          + ' to learn more about interactive tables.';\n",
              "        element.innerHTML = '';\n",
              "        dataTable['output_type'] = 'display_data';\n",
              "        await google.colab.output.renderOutput(dataTable, element);\n",
              "        const docLink = document.createElement('div');\n",
              "        docLink.innerHTML = docLinkHtml;\n",
              "        element.appendChild(docLink);\n",
              "      }\n",
              "    </script>\n",
              "  </div>\n",
              "\n",
              "\n",
              "<div id=\"df-3f6ab9cf-54b6-434f-b0e9-af741f2b6670\">\n",
              "  <button class=\"colab-df-quickchart\" onclick=\"quickchart('df-3f6ab9cf-54b6-434f-b0e9-af741f2b6670')\"\n",
              "            title=\"Suggest charts\"\n",
              "            style=\"display:none;\">\n",
              "\n",
              "<svg xmlns=\"http://www.w3.org/2000/svg\" height=\"24px\"viewBox=\"0 0 24 24\"\n",
              "     width=\"24px\">\n",
              "    <g>\n",
              "        <path d=\"M19 3H5c-1.1 0-2 .9-2 2v14c0 1.1.9 2 2 2h14c1.1 0 2-.9 2-2V5c0-1.1-.9-2-2-2zM9 17H7v-7h2v7zm4 0h-2V7h2v10zm4 0h-2v-4h2v4z\"/>\n",
              "    </g>\n",
              "</svg>\n",
              "  </button>\n",
              "\n",
              "<style>\n",
              "  .colab-df-quickchart {\n",
              "      --bg-color: #E8F0FE;\n",
              "      --fill-color: #1967D2;\n",
              "      --hover-bg-color: #E2EBFA;\n",
              "      --hover-fill-color: #174EA6;\n",
              "      --disabled-fill-color: #AAA;\n",
              "      --disabled-bg-color: #DDD;\n",
              "  }\n",
              "\n",
              "  [theme=dark] .colab-df-quickchart {\n",
              "      --bg-color: #3B4455;\n",
              "      --fill-color: #D2E3FC;\n",
              "      --hover-bg-color: #434B5C;\n",
              "      --hover-fill-color: #FFFFFF;\n",
              "      --disabled-bg-color: #3B4455;\n",
              "      --disabled-fill-color: #666;\n",
              "  }\n",
              "\n",
              "  .colab-df-quickchart {\n",
              "    background-color: var(--bg-color);\n",
              "    border: none;\n",
              "    border-radius: 50%;\n",
              "    cursor: pointer;\n",
              "    display: none;\n",
              "    fill: var(--fill-color);\n",
              "    height: 32px;\n",
              "    padding: 0;\n",
              "    width: 32px;\n",
              "  }\n",
              "\n",
              "  .colab-df-quickchart:hover {\n",
              "    background-color: var(--hover-bg-color);\n",
              "    box-shadow: 0 1px 2px rgba(60, 64, 67, 0.3), 0 1px 3px 1px rgba(60, 64, 67, 0.15);\n",
              "    fill: var(--button-hover-fill-color);\n",
              "  }\n",
              "\n",
              "  .colab-df-quickchart-complete:disabled,\n",
              "  .colab-df-quickchart-complete:disabled:hover {\n",
              "    background-color: var(--disabled-bg-color);\n",
              "    fill: var(--disabled-fill-color);\n",
              "    box-shadow: none;\n",
              "  }\n",
              "\n",
              "  .colab-df-spinner {\n",
              "    border: 2px solid var(--fill-color);\n",
              "    border-color: transparent;\n",
              "    border-bottom-color: var(--fill-color);\n",
              "    animation:\n",
              "      spin 1s steps(1) infinite;\n",
              "  }\n",
              "\n",
              "  @keyframes spin {\n",
              "    0% {\n",
              "      border-color: transparent;\n",
              "      border-bottom-color: var(--fill-color);\n",
              "      border-left-color: var(--fill-color);\n",
              "    }\n",
              "    20% {\n",
              "      border-color: transparent;\n",
              "      border-left-color: var(--fill-color);\n",
              "      border-top-color: var(--fill-color);\n",
              "    }\n",
              "    30% {\n",
              "      border-color: transparent;\n",
              "      border-left-color: var(--fill-color);\n",
              "      border-top-color: var(--fill-color);\n",
              "      border-right-color: var(--fill-color);\n",
              "    }\n",
              "    40% {\n",
              "      border-color: transparent;\n",
              "      border-right-color: var(--fill-color);\n",
              "      border-top-color: var(--fill-color);\n",
              "    }\n",
              "    60% {\n",
              "      border-color: transparent;\n",
              "      border-right-color: var(--fill-color);\n",
              "    }\n",
              "    80% {\n",
              "      border-color: transparent;\n",
              "      border-right-color: var(--fill-color);\n",
              "      border-bottom-color: var(--fill-color);\n",
              "    }\n",
              "    90% {\n",
              "      border-color: transparent;\n",
              "      border-bottom-color: var(--fill-color);\n",
              "    }\n",
              "  }\n",
              "</style>\n",
              "\n",
              "  <script>\n",
              "    async function quickchart(key) {\n",
              "      const quickchartButtonEl =\n",
              "        document.querySelector('#' + key + ' button');\n",
              "      quickchartButtonEl.disabled = true;  // To prevent multiple clicks.\n",
              "      quickchartButtonEl.classList.add('colab-df-spinner');\n",
              "      try {\n",
              "        const charts = await google.colab.kernel.invokeFunction(\n",
              "            'suggestCharts', [key], {});\n",
              "      } catch (error) {\n",
              "        console.error('Error during call to suggestCharts:', error);\n",
              "      }\n",
              "      quickchartButtonEl.classList.remove('colab-df-spinner');\n",
              "      quickchartButtonEl.classList.add('colab-df-quickchart-complete');\n",
              "    }\n",
              "    (() => {\n",
              "      let quickchartButtonEl =\n",
              "        document.querySelector('#df-3f6ab9cf-54b6-434f-b0e9-af741f2b6670 button');\n",
              "      quickchartButtonEl.style.display =\n",
              "        google.colab.kernel.accessAllowed ? 'block' : 'none';\n",
              "    })();\n",
              "  </script>\n",
              "</div>\n",
              "\n",
              "  <div id=\"id_50dafe51-bf15-4265-b58b-07b7fc1cf045\">\n",
              "    <style>\n",
              "      .colab-df-generate {\n",
              "        background-color: #E8F0FE;\n",
              "        border: none;\n",
              "        border-radius: 50%;\n",
              "        cursor: pointer;\n",
              "        display: none;\n",
              "        fill: #1967D2;\n",
              "        height: 32px;\n",
              "        padding: 0 0 0 0;\n",
              "        width: 32px;\n",
              "      }\n",
              "\n",
              "      .colab-df-generate:hover {\n",
              "        background-color: #E2EBFA;\n",
              "        box-shadow: 0px 1px 2px rgba(60, 64, 67, 0.3), 0px 1px 3px 1px rgba(60, 64, 67, 0.15);\n",
              "        fill: #174EA6;\n",
              "      }\n",
              "\n",
              "      [theme=dark] .colab-df-generate {\n",
              "        background-color: #3B4455;\n",
              "        fill: #D2E3FC;\n",
              "      }\n",
              "\n",
              "      [theme=dark] .colab-df-generate:hover {\n",
              "        background-color: #434B5C;\n",
              "        box-shadow: 0px 1px 3px 1px rgba(0, 0, 0, 0.15);\n",
              "        filter: drop-shadow(0px 1px 2px rgba(0, 0, 0, 0.3));\n",
              "        fill: #FFFFFF;\n",
              "      }\n",
              "    </style>\n",
              "    <button class=\"colab-df-generate\" onclick=\"generateWithVariable('df')\"\n",
              "            title=\"Generate code using this dataframe.\"\n",
              "            style=\"display:none;\">\n",
              "\n",
              "  <svg xmlns=\"http://www.w3.org/2000/svg\" height=\"24px\"viewBox=\"0 0 24 24\"\n",
              "       width=\"24px\">\n",
              "    <path d=\"M7,19H8.4L18.45,9,17,7.55,7,17.6ZM5,21V16.75L18.45,3.32a2,2,0,0,1,2.83,0l1.4,1.43a1.91,1.91,0,0,1,.58,1.4,1.91,1.91,0,0,1-.58,1.4L9.25,21ZM18.45,9,17,7.55Zm-12,3A5.31,5.31,0,0,0,4.9,8.1,5.31,5.31,0,0,0,1,6.5,5.31,5.31,0,0,0,4.9,4.9,5.31,5.31,0,0,0,6.5,1,5.31,5.31,0,0,0,8.1,4.9,5.31,5.31,0,0,0,12,6.5,5.46,5.46,0,0,0,6.5,12Z\"/>\n",
              "  </svg>\n",
              "    </button>\n",
              "    <script>\n",
              "      (() => {\n",
              "      const buttonEl =\n",
              "        document.querySelector('#id_50dafe51-bf15-4265-b58b-07b7fc1cf045 button.colab-df-generate');\n",
              "      buttonEl.style.display =\n",
              "        google.colab.kernel.accessAllowed ? 'block' : 'none';\n",
              "\n",
              "      buttonEl.onclick = () => {\n",
              "        google.colab.notebook.generateWithVariable('df');\n",
              "      }\n",
              "      })();\n",
              "    </script>\n",
              "  </div>\n",
              "\n",
              "    </div>\n",
              "  </div>\n"
            ],
            "application/vnd.google.colaboratory.intrinsic+json": {
              "type": "dataframe",
              "variable_name": "df",
              "summary": "{\n  \"name\": \"df\",\n  \"rows\": 37864,\n  \"fields\": [\n    {\n      \"column\": \"ID\",\n      \"properties\": {\n        \"dtype\": \"number\",\n        \"std\": 11885,\n        \"min\": 0,\n        \"max\": 41156,\n        \"num_unique_values\": 37864,\n        \"samples\": [\n          8632,\n          4152,\n          37427\n        ],\n        \"semantic_type\": \"\",\n        \"description\": \"\"\n      }\n    },\n    {\n      \"column\": \"Sentiment\",\n      \"properties\": {\n        \"dtype\": \"category\",\n        \"num_unique_values\": 3,\n        \"samples\": [\n          \"Positive\",\n          \"Negative\",\n          \"Neutral\"\n        ],\n        \"semantic_type\": \"\",\n        \"description\": \"\"\n      }\n    },\n    {\n      \"column\": \"CoronaTweet\",\n      \"properties\": {\n        \"dtype\": \"string\",\n        \"num_unique_values\": 37673,\n        \"samples\": [\n          \"kpmgu listen covid ha undeni caus demand food household product rise kpmg mark schmele examin distinct challeng consum retail industri face dure thi time\",\n          \"call carinsur agent compani yahoofin featur consumerreport updat break american get insur wake coronaviru senior consum analyst askpennyauto offer expertis relief\",\n          \"yay im virtual onlin shop queue theyll found cure coronaviru time get\"\n        ],\n        \"semantic_type\": \"\",\n        \"description\": \"\"\n      }\n    }\n  ]\n}"
            }
          },
          "metadata": {},
          "execution_count": 17
        }
      ]
    },
    {
      "cell_type": "code",
      "source": [
        "df_test"
      ],
      "metadata": {
        "colab": {
          "base_uri": "https://localhost:8080/",
          "height": 424
        },
        "id": "g5fMjcHWyOJs",
        "outputId": "a857ba8d-b760-47be-fbdc-d8e3951244a8"
      },
      "execution_count": null,
      "outputs": [
        {
          "output_type": "execute_result",
          "data": {
            "text/plain": [
              "         ID Sentiment                                        CoronaTweet\n",
              "0      7184  Negative  reflect consum behaviour last week made thi li...\n",
              "1     36363  Negative  know everyon get stir crazi befor go watch thi...\n",
              "2     10423  Negative  seen ga price thi low sinc first start drive l...\n",
              "3      6409   Neutral  onli batmeat left supermarket shelv coronaviru...\n",
              "4      7015   Neutral  along health worker need appreci truck driver ...\n",
              "...     ...       ...                                                ...\n",
              "3288  13685   Neutral  day selfisol run quick errand buy supermarket ...\n",
              "3289  17905  Positive  tesco think dure covid pandem bag onlin shop o...\n",
              "3290  40331   Neutral           key insight effect covid consum behavior\n",
              "3291   1495   Neutral  score haul groceri store tonight hoard coronav...\n",
              "3292   3190  Positive  moral justifi busi rais price good demand grow...\n",
              "\n",
              "[3293 rows x 3 columns]"
            ],
            "text/html": [
              "\n",
              "  <div id=\"df-3288a730-89ec-4c26-9342-ecb6f2da99f3\" class=\"colab-df-container\">\n",
              "    <div>\n",
              "<style scoped>\n",
              "    .dataframe tbody tr th:only-of-type {\n",
              "        vertical-align: middle;\n",
              "    }\n",
              "\n",
              "    .dataframe tbody tr th {\n",
              "        vertical-align: top;\n",
              "    }\n",
              "\n",
              "    .dataframe thead th {\n",
              "        text-align: right;\n",
              "    }\n",
              "</style>\n",
              "<table border=\"1\" class=\"dataframe\">\n",
              "  <thead>\n",
              "    <tr style=\"text-align: right;\">\n",
              "      <th></th>\n",
              "      <th>ID</th>\n",
              "      <th>Sentiment</th>\n",
              "      <th>CoronaTweet</th>\n",
              "    </tr>\n",
              "  </thead>\n",
              "  <tbody>\n",
              "    <tr>\n",
              "      <th>0</th>\n",
              "      <td>7184</td>\n",
              "      <td>Negative</td>\n",
              "      <td>reflect consum behaviour last week made thi li...</td>\n",
              "    </tr>\n",
              "    <tr>\n",
              "      <th>1</th>\n",
              "      <td>36363</td>\n",
              "      <td>Negative</td>\n",
              "      <td>know everyon get stir crazi befor go watch thi...</td>\n",
              "    </tr>\n",
              "    <tr>\n",
              "      <th>2</th>\n",
              "      <td>10423</td>\n",
              "      <td>Negative</td>\n",
              "      <td>seen ga price thi low sinc first start drive l...</td>\n",
              "    </tr>\n",
              "    <tr>\n",
              "      <th>3</th>\n",
              "      <td>6409</td>\n",
              "      <td>Neutral</td>\n",
              "      <td>onli batmeat left supermarket shelv coronaviru...</td>\n",
              "    </tr>\n",
              "    <tr>\n",
              "      <th>4</th>\n",
              "      <td>7015</td>\n",
              "      <td>Neutral</td>\n",
              "      <td>along health worker need appreci truck driver ...</td>\n",
              "    </tr>\n",
              "    <tr>\n",
              "      <th>...</th>\n",
              "      <td>...</td>\n",
              "      <td>...</td>\n",
              "      <td>...</td>\n",
              "    </tr>\n",
              "    <tr>\n",
              "      <th>3288</th>\n",
              "      <td>13685</td>\n",
              "      <td>Neutral</td>\n",
              "      <td>day selfisol run quick errand buy supermarket ...</td>\n",
              "    </tr>\n",
              "    <tr>\n",
              "      <th>3289</th>\n",
              "      <td>17905</td>\n",
              "      <td>Positive</td>\n",
              "      <td>tesco think dure covid pandem bag onlin shop o...</td>\n",
              "    </tr>\n",
              "    <tr>\n",
              "      <th>3290</th>\n",
              "      <td>40331</td>\n",
              "      <td>Neutral</td>\n",
              "      <td>key insight effect covid consum behavior</td>\n",
              "    </tr>\n",
              "    <tr>\n",
              "      <th>3291</th>\n",
              "      <td>1495</td>\n",
              "      <td>Neutral</td>\n",
              "      <td>score haul groceri store tonight hoard coronav...</td>\n",
              "    </tr>\n",
              "    <tr>\n",
              "      <th>3292</th>\n",
              "      <td>3190</td>\n",
              "      <td>Positive</td>\n",
              "      <td>moral justifi busi rais price good demand grow...</td>\n",
              "    </tr>\n",
              "  </tbody>\n",
              "</table>\n",
              "<p>3293 rows × 3 columns</p>\n",
              "</div>\n",
              "    <div class=\"colab-df-buttons\">\n",
              "\n",
              "  <div class=\"colab-df-container\">\n",
              "    <button class=\"colab-df-convert\" onclick=\"convertToInteractive('df-3288a730-89ec-4c26-9342-ecb6f2da99f3')\"\n",
              "            title=\"Convert this dataframe to an interactive table.\"\n",
              "            style=\"display:none;\">\n",
              "\n",
              "  <svg xmlns=\"http://www.w3.org/2000/svg\" height=\"24px\" viewBox=\"0 -960 960 960\">\n",
              "    <path d=\"M120-120v-720h720v720H120Zm60-500h600v-160H180v160Zm220 220h160v-160H400v160Zm0 220h160v-160H400v160ZM180-400h160v-160H180v160Zm440 0h160v-160H620v160ZM180-180h160v-160H180v160Zm440 0h160v-160H620v160Z\"/>\n",
              "  </svg>\n",
              "    </button>\n",
              "\n",
              "  <style>\n",
              "    .colab-df-container {\n",
              "      display:flex;\n",
              "      gap: 12px;\n",
              "    }\n",
              "\n",
              "    .colab-df-convert {\n",
              "      background-color: #E8F0FE;\n",
              "      border: none;\n",
              "      border-radius: 50%;\n",
              "      cursor: pointer;\n",
              "      display: none;\n",
              "      fill: #1967D2;\n",
              "      height: 32px;\n",
              "      padding: 0 0 0 0;\n",
              "      width: 32px;\n",
              "    }\n",
              "\n",
              "    .colab-df-convert:hover {\n",
              "      background-color: #E2EBFA;\n",
              "      box-shadow: 0px 1px 2px rgba(60, 64, 67, 0.3), 0px 1px 3px 1px rgba(60, 64, 67, 0.15);\n",
              "      fill: #174EA6;\n",
              "    }\n",
              "\n",
              "    .colab-df-buttons div {\n",
              "      margin-bottom: 4px;\n",
              "    }\n",
              "\n",
              "    [theme=dark] .colab-df-convert {\n",
              "      background-color: #3B4455;\n",
              "      fill: #D2E3FC;\n",
              "    }\n",
              "\n",
              "    [theme=dark] .colab-df-convert:hover {\n",
              "      background-color: #434B5C;\n",
              "      box-shadow: 0px 1px 3px 1px rgba(0, 0, 0, 0.15);\n",
              "      filter: drop-shadow(0px 1px 2px rgba(0, 0, 0, 0.3));\n",
              "      fill: #FFFFFF;\n",
              "    }\n",
              "  </style>\n",
              "\n",
              "    <script>\n",
              "      const buttonEl =\n",
              "        document.querySelector('#df-3288a730-89ec-4c26-9342-ecb6f2da99f3 button.colab-df-convert');\n",
              "      buttonEl.style.display =\n",
              "        google.colab.kernel.accessAllowed ? 'block' : 'none';\n",
              "\n",
              "      async function convertToInteractive(key) {\n",
              "        const element = document.querySelector('#df-3288a730-89ec-4c26-9342-ecb6f2da99f3');\n",
              "        const dataTable =\n",
              "          await google.colab.kernel.invokeFunction('convertToInteractive',\n",
              "                                                    [key], {});\n",
              "        if (!dataTable) return;\n",
              "\n",
              "        const docLinkHtml = 'Like what you see? Visit the ' +\n",
              "          '<a target=\"_blank\" href=https://colab.research.google.com/notebooks/data_table.ipynb>data table notebook</a>'\n",
              "          + ' to learn more about interactive tables.';\n",
              "        element.innerHTML = '';\n",
              "        dataTable['output_type'] = 'display_data';\n",
              "        await google.colab.output.renderOutput(dataTable, element);\n",
              "        const docLink = document.createElement('div');\n",
              "        docLink.innerHTML = docLinkHtml;\n",
              "        element.appendChild(docLink);\n",
              "      }\n",
              "    </script>\n",
              "  </div>\n",
              "\n",
              "\n",
              "<div id=\"df-8e69fd69-0e0e-4bd3-92f4-3f79b06d9458\">\n",
              "  <button class=\"colab-df-quickchart\" onclick=\"quickchart('df-8e69fd69-0e0e-4bd3-92f4-3f79b06d9458')\"\n",
              "            title=\"Suggest charts\"\n",
              "            style=\"display:none;\">\n",
              "\n",
              "<svg xmlns=\"http://www.w3.org/2000/svg\" height=\"24px\"viewBox=\"0 0 24 24\"\n",
              "     width=\"24px\">\n",
              "    <g>\n",
              "        <path d=\"M19 3H5c-1.1 0-2 .9-2 2v14c0 1.1.9 2 2 2h14c1.1 0 2-.9 2-2V5c0-1.1-.9-2-2-2zM9 17H7v-7h2v7zm4 0h-2V7h2v10zm4 0h-2v-4h2v4z\"/>\n",
              "    </g>\n",
              "</svg>\n",
              "  </button>\n",
              "\n",
              "<style>\n",
              "  .colab-df-quickchart {\n",
              "      --bg-color: #E8F0FE;\n",
              "      --fill-color: #1967D2;\n",
              "      --hover-bg-color: #E2EBFA;\n",
              "      --hover-fill-color: #174EA6;\n",
              "      --disabled-fill-color: #AAA;\n",
              "      --disabled-bg-color: #DDD;\n",
              "  }\n",
              "\n",
              "  [theme=dark] .colab-df-quickchart {\n",
              "      --bg-color: #3B4455;\n",
              "      --fill-color: #D2E3FC;\n",
              "      --hover-bg-color: #434B5C;\n",
              "      --hover-fill-color: #FFFFFF;\n",
              "      --disabled-bg-color: #3B4455;\n",
              "      --disabled-fill-color: #666;\n",
              "  }\n",
              "\n",
              "  .colab-df-quickchart {\n",
              "    background-color: var(--bg-color);\n",
              "    border: none;\n",
              "    border-radius: 50%;\n",
              "    cursor: pointer;\n",
              "    display: none;\n",
              "    fill: var(--fill-color);\n",
              "    height: 32px;\n",
              "    padding: 0;\n",
              "    width: 32px;\n",
              "  }\n",
              "\n",
              "  .colab-df-quickchart:hover {\n",
              "    background-color: var(--hover-bg-color);\n",
              "    box-shadow: 0 1px 2px rgba(60, 64, 67, 0.3), 0 1px 3px 1px rgba(60, 64, 67, 0.15);\n",
              "    fill: var(--button-hover-fill-color);\n",
              "  }\n",
              "\n",
              "  .colab-df-quickchart-complete:disabled,\n",
              "  .colab-df-quickchart-complete:disabled:hover {\n",
              "    background-color: var(--disabled-bg-color);\n",
              "    fill: var(--disabled-fill-color);\n",
              "    box-shadow: none;\n",
              "  }\n",
              "\n",
              "  .colab-df-spinner {\n",
              "    border: 2px solid var(--fill-color);\n",
              "    border-color: transparent;\n",
              "    border-bottom-color: var(--fill-color);\n",
              "    animation:\n",
              "      spin 1s steps(1) infinite;\n",
              "  }\n",
              "\n",
              "  @keyframes spin {\n",
              "    0% {\n",
              "      border-color: transparent;\n",
              "      border-bottom-color: var(--fill-color);\n",
              "      border-left-color: var(--fill-color);\n",
              "    }\n",
              "    20% {\n",
              "      border-color: transparent;\n",
              "      border-left-color: var(--fill-color);\n",
              "      border-top-color: var(--fill-color);\n",
              "    }\n",
              "    30% {\n",
              "      border-color: transparent;\n",
              "      border-left-color: var(--fill-color);\n",
              "      border-top-color: var(--fill-color);\n",
              "      border-right-color: var(--fill-color);\n",
              "    }\n",
              "    40% {\n",
              "      border-color: transparent;\n",
              "      border-right-color: var(--fill-color);\n",
              "      border-top-color: var(--fill-color);\n",
              "    }\n",
              "    60% {\n",
              "      border-color: transparent;\n",
              "      border-right-color: var(--fill-color);\n",
              "    }\n",
              "    80% {\n",
              "      border-color: transparent;\n",
              "      border-right-color: var(--fill-color);\n",
              "      border-bottom-color: var(--fill-color);\n",
              "    }\n",
              "    90% {\n",
              "      border-color: transparent;\n",
              "      border-bottom-color: var(--fill-color);\n",
              "    }\n",
              "  }\n",
              "</style>\n",
              "\n",
              "  <script>\n",
              "    async function quickchart(key) {\n",
              "      const quickchartButtonEl =\n",
              "        document.querySelector('#' + key + ' button');\n",
              "      quickchartButtonEl.disabled = true;  // To prevent multiple clicks.\n",
              "      quickchartButtonEl.classList.add('colab-df-spinner');\n",
              "      try {\n",
              "        const charts = await google.colab.kernel.invokeFunction(\n",
              "            'suggestCharts', [key], {});\n",
              "      } catch (error) {\n",
              "        console.error('Error during call to suggestCharts:', error);\n",
              "      }\n",
              "      quickchartButtonEl.classList.remove('colab-df-spinner');\n",
              "      quickchartButtonEl.classList.add('colab-df-quickchart-complete');\n",
              "    }\n",
              "    (() => {\n",
              "      let quickchartButtonEl =\n",
              "        document.querySelector('#df-8e69fd69-0e0e-4bd3-92f4-3f79b06d9458 button');\n",
              "      quickchartButtonEl.style.display =\n",
              "        google.colab.kernel.accessAllowed ? 'block' : 'none';\n",
              "    })();\n",
              "  </script>\n",
              "</div>\n",
              "\n",
              "  <div id=\"id_da1bf83d-2bd7-4e49-b5e6-d67b148d3fb7\">\n",
              "    <style>\n",
              "      .colab-df-generate {\n",
              "        background-color: #E8F0FE;\n",
              "        border: none;\n",
              "        border-radius: 50%;\n",
              "        cursor: pointer;\n",
              "        display: none;\n",
              "        fill: #1967D2;\n",
              "        height: 32px;\n",
              "        padding: 0 0 0 0;\n",
              "        width: 32px;\n",
              "      }\n",
              "\n",
              "      .colab-df-generate:hover {\n",
              "        background-color: #E2EBFA;\n",
              "        box-shadow: 0px 1px 2px rgba(60, 64, 67, 0.3), 0px 1px 3px 1px rgba(60, 64, 67, 0.15);\n",
              "        fill: #174EA6;\n",
              "      }\n",
              "\n",
              "      [theme=dark] .colab-df-generate {\n",
              "        background-color: #3B4455;\n",
              "        fill: #D2E3FC;\n",
              "      }\n",
              "\n",
              "      [theme=dark] .colab-df-generate:hover {\n",
              "        background-color: #434B5C;\n",
              "        box-shadow: 0px 1px 3px 1px rgba(0, 0, 0, 0.15);\n",
              "        filter: drop-shadow(0px 1px 2px rgba(0, 0, 0, 0.3));\n",
              "        fill: #FFFFFF;\n",
              "      }\n",
              "    </style>\n",
              "    <button class=\"colab-df-generate\" onclick=\"generateWithVariable('df_test')\"\n",
              "            title=\"Generate code using this dataframe.\"\n",
              "            style=\"display:none;\">\n",
              "\n",
              "  <svg xmlns=\"http://www.w3.org/2000/svg\" height=\"24px\"viewBox=\"0 0 24 24\"\n",
              "       width=\"24px\">\n",
              "    <path d=\"M7,19H8.4L18.45,9,17,7.55,7,17.6ZM5,21V16.75L18.45,3.32a2,2,0,0,1,2.83,0l1.4,1.43a1.91,1.91,0,0,1,.58,1.4,1.91,1.91,0,0,1-.58,1.4L9.25,21ZM18.45,9,17,7.55Zm-12,3A5.31,5.31,0,0,0,4.9,8.1,5.31,5.31,0,0,0,1,6.5,5.31,5.31,0,0,0,4.9,4.9,5.31,5.31,0,0,0,6.5,1,5.31,5.31,0,0,0,8.1,4.9,5.31,5.31,0,0,0,12,6.5,5.46,5.46,0,0,0,6.5,12Z\"/>\n",
              "  </svg>\n",
              "    </button>\n",
              "    <script>\n",
              "      (() => {\n",
              "      const buttonEl =\n",
              "        document.querySelector('#id_da1bf83d-2bd7-4e49-b5e6-d67b148d3fb7 button.colab-df-generate');\n",
              "      buttonEl.style.display =\n",
              "        google.colab.kernel.accessAllowed ? 'block' : 'none';\n",
              "\n",
              "      buttonEl.onclick = () => {\n",
              "        google.colab.notebook.generateWithVariable('df_test');\n",
              "      }\n",
              "      })();\n",
              "    </script>\n",
              "  </div>\n",
              "\n",
              "    </div>\n",
              "  </div>\n"
            ],
            "application/vnd.google.colaboratory.intrinsic+json": {
              "type": "dataframe",
              "variable_name": "df_test",
              "summary": "{\n  \"name\": \"df_test\",\n  \"rows\": 3293,\n  \"fields\": [\n    {\n      \"column\": \"ID\",\n      \"properties\": {\n        \"dtype\": \"number\",\n        \"std\": 11829,\n        \"min\": 17,\n        \"max\": 41152,\n        \"num_unique_values\": 3293,\n        \"samples\": [\n          15676,\n          11166,\n          13578\n        ],\n        \"semantic_type\": \"\",\n        \"description\": \"\"\n      }\n    },\n    {\n      \"column\": \"Sentiment\",\n      \"properties\": {\n        \"dtype\": \"category\",\n        \"num_unique_values\": 3,\n        \"samples\": [\n          \"Negative\",\n          \"Neutral\",\n          \"Positive\"\n        ],\n        \"semantic_type\": \"\",\n        \"description\": \"\"\n      }\n    },\n    {\n      \"column\": \"CoronaTweet\",\n      \"properties\": {\n        \"dtype\": \"string\",\n        \"num_unique_values\": 3290,\n        \"samples\": [\n          \"covidalert coronaviru crash price hotel rental car women dress global pandem news coronaviru covid\",\n          \"word get shelv supermarket fulli stock coronaviru\",\n          \"well must surg stir fri pasta dish made disgust level ignor day panic buy supermarket go key worker hr covid educ nhsworker\"\n        ],\n        \"semantic_type\": \"\",\n        \"description\": \"\"\n      }\n    }\n  ]\n}"
            }
          },
          "metadata": {},
          "execution_count": 18
        }
      ]
    },
    {
      "cell_type": "code",
      "source": [
        "# # Function to remove words with numbers, excluding cases like \"covid19\"\n",
        "# def remove_numerical_words(text):\n",
        "#     return ' '.join(word for word in text.split() if not (re.search(r'\\d', word) and not re.search(r'[\\W_]*\\d*covid[\\W_]*\\d*', word, flags=re.IGNORECASE)))\n",
        "\n",
        "# def replace_covid_words(text):\n",
        "#     return re.sub(r'[\\W_]*\\d*covid[\\W_]*\\d*', 'covid', text, flags=re.IGNORECASE)\n",
        "# df['CoronaTweet']= df['CoronaTweet'].apply(remove_numerical_words)\n",
        "# df['CoronaTweet']= df['CoronaTweet'].apply(replace_covid_words)\n",
        "# df\n"
      ],
      "metadata": {
        "id": "PckRScHrriMW"
      },
      "execution_count": null,
      "outputs": []
    },
    {
      "cell_type": "code",
      "source": [
        "def get_vocabulary(text_col):\n",
        "  \"\"\"\n",
        "  This function finds the unique vocabulary (words) in a DataFrame column.\n",
        "\n",
        "  Args:\n",
        "      text_col (pd.Series): The DataFrame column containing text data.\n",
        "\n",
        "  Returns:\n",
        "      set: A set containing the unique words found in the column.\n",
        "  \"\"\"\n",
        "  # Combine all text into a single string (optional for short columns)\n",
        "  all_text = \" \".join(text_col.tolist())\n",
        "\n",
        "  # Tokenize the text (split into words)\n",
        "  words = all_text.lower().split()  # Convert to lowercase for case-insensitivity\n",
        "\n",
        "  # Remove empty strings or punctuation (optional)\n",
        "  # words = [word for word in words if word.isalpha()]  # Only keep alphabetic words\n",
        "\n",
        "  # Find unique words\n",
        "  vocabulary = set(words)\n",
        "\n",
        "  return vocabulary\n",
        "\n",
        "# Get the vocabulary of the 'text' column\n",
        "vocabulary = get_vocabulary(df['CoronaTweet'])\n",
        "\n",
        "# Print the vocabulary\n",
        "print(vocabulary)"
      ],
      "metadata": {
        "id": "rhbEne8wudea"
      },
      "execution_count": null,
      "outputs": []
    },
    {
      "cell_type": "code",
      "source": [
        "vocubulary_size = len(vocabulary)\n",
        "print(vocubulary_size)"
      ],
      "metadata": {
        "colab": {
          "base_uri": "https://localhost:8080/"
        },
        "id": "9yGpdEAdvSj7",
        "outputId": "3aa1c5bb-7839-486c-f5e4-0dc7264e5358"
      },
      "execution_count": null,
      "outputs": [
        {
          "output_type": "stream",
          "name": "stdout",
          "text": [
            "44100\n"
          ]
        }
      ]
    },
    {
      "cell_type": "markdown",
      "source": [
        "## Using Count Vectoriser and Tfidf"
      ],
      "metadata": {
        "id": "kKE6qRcM4O_e"
      }
    },
    {
      "cell_type": "code",
      "source": [
        "from sklearn.feature_extraction.text import CountVectorizer\n",
        "from sklearn.feature_extraction.text import TfidfVectorizer\n",
        "max_features = 10000\n",
        "cv = CountVectorizer(max_features = max_features ,stop_words='english') # can keep max features as a hyperparameter\n",
        "tfidf_vectorizer = TfidfVectorizer(max_features=max_features, stop_words='english')\n"
      ],
      "metadata": {
        "id": "Yp616NsCoJzY"
      },
      "execution_count": null,
      "outputs": []
    },
    {
      "cell_type": "code",
      "source": [
        "vector = cv.fit_transform(df['CoronaTweet']).toarray()\n",
        "vector_test = cv.transform(df_test['CoronaTweet']).toarray()\n",
        "\n",
        "vector_tf = tfidf_vectorizer.fit_transform(df['CoronaTweet']).toarray()\n",
        "vector_tf_test = tfidf_vectorizer.transform(df_test['CoronaTweet']).toarray()\n",
        "\n",
        "vector.shape, vector_tf.shape, vector_test.shape, vector_tf_test.shape"
      ],
      "metadata": {
        "colab": {
          "base_uri": "https://localhost:8080/"
        },
        "id": "dA0_9Pe9oikI",
        "outputId": "3404009a-aa9a-4293-998e-ad3f4c0999ca"
      },
      "execution_count": null,
      "outputs": [
        {
          "output_type": "execute_result",
          "data": {
            "text/plain": [
              "((37864, 10000), (37864, 10000), (3293, 10000), (3293, 10000))"
            ]
          },
          "metadata": {},
          "execution_count": 22
        }
      ]
    },
    {
      "cell_type": "code",
      "source": [
        "arr = cv.get_feature_names_out()\n",
        "print(arr[9900:10000])"
      ],
      "metadata": {
        "id": "HY4si7NJoj7o",
        "colab": {
          "base_uri": "https://localhost:8080/"
        },
        "outputId": "f4f39238-ae3b-428e-9e0b-3e37c161a7a9"
      },
      "execution_count": null,
      "outputs": [
        {
          "output_type": "stream",
          "name": "stdout",
          "text": [
            "['wrap' 'wreak' 'wreck' 'wrench' 'wrestl' 'wrestlemania' 'write' 'writer'\n",
            " 'writingcommnun' 'writingcommun' 'written' 'wrong' 'wrote' 'ws' 'wsj'\n",
            " 'wtf' 'wth' 'wti' 'wtop' 'wuflu' 'wuhan' 'wuhancoronaviru' 'wuhanviru'\n",
            " 'wusa' 'wv' 'ww' 'wwd' 'wwe' 'wwgwga' 'wwii' 'xauusd' 'xbox' 'xd' 'xma'\n",
            " 'xx' 'ya' 'yahoo' 'yahoofin' 'yahoonew' 'yall' 'yangon' 'yard' 'yay' 'ye'\n",
            " 'yeah' 'year' 'yearli' 'yearold' 'yeast' 'yeg' 'yell' 'yellow' 'yelp'\n",
            " 'yemen' 'yep' 'yesterday' 'yield' 'yike' 'ynwa' 'yo' 'yoga' 'yoghurt'\n",
            " 'yogi' 'yomequedoencasa' 'york' 'yorker' 'yorkshir' 'yotpo' 'youd'\n",
            " 'yougov' 'youll' 'youllneverwalkalon' 'young' 'younger'\n",
            " 'yoursafetyismysafeti' 'yourselv' 'youth' 'youthl' 'youtub' 'youv' 'yoy'\n",
            " 'yr' 'yrold' 'yu' 'yummi' 'yup' 'yvr' 'yyc' 'zambia' 'zealand' 'zero'\n",
            " 'zimbabw' 'zinc' 'zomatoin' 'zombi' 'zombieland' 'zone' 'zoom'\n",
            " 'zoomupyourlif' 'zoonot']\n"
          ]
        }
      ]
    },
    {
      "cell_type": "code",
      "source": [
        "df.shape[0]"
      ],
      "metadata": {
        "colab": {
          "base_uri": "https://localhost:8080/"
        },
        "id": "nsRBYX21yu4G",
        "outputId": "150a4205-0c6b-442c-abdd-cbdff94c3708"
      },
      "execution_count": null,
      "outputs": [
        {
          "output_type": "execute_result",
          "data": {
            "text/plain": [
              "37864"
            ]
          },
          "metadata": {},
          "execution_count": 20
        }
      ]
    },
    {
      "cell_type": "code",
      "source": [
        "df.Sentiment.unique()"
      ],
      "metadata": {
        "colab": {
          "base_uri": "https://localhost:8080/"
        },
        "id": "PGefY31Vz2Sp",
        "outputId": "2fb35a8a-ff94-4496-885e-b2a0bf65d5c1"
      },
      "execution_count": null,
      "outputs": [
        {
          "output_type": "execute_result",
          "data": {
            "text/plain": [
              "array(['Positive', 'Negative', 'Neutral'], dtype=object)"
            ]
          },
          "metadata": {},
          "execution_count": 27
        }
      ]
    },
    {
      "cell_type": "code",
      "source": [
        "# m = df.shape[0]\n",
        "# y = np.zeros((m))\n",
        "# for i in range(m):\n",
        "#   if df[\"Sentiment\"][i] == \"Positive\" :\n",
        "#     y[i] = 0\n",
        "#   elif df[\"Sentiment\"][i] == \"Neutral\" :\n",
        "#     y[i] = 1\n",
        "#   else :\n",
        "#     y[i] = 2\n",
        "\n",
        "# print(y)\n",
        "sentiment_mapping = {\"Positive\": 0, \"Neutral\": 1, \"Negative\": 2}\n",
        "y = np.array([sentiment_mapping[s] for s in df[\"Sentiment\"]])\n",
        "print(y)"
      ],
      "metadata": {
        "colab": {
          "base_uri": "https://localhost:8080/"
        },
        "id": "NSZ5n4OvovjQ",
        "outputId": "f0f53eff-9dc5-4499-dee4-f603394592eb"
      },
      "execution_count": null,
      "outputs": [
        {
          "output_type": "stream",
          "name": "stdout",
          "text": [
            "[0 2 2 ... 0 0 1]\n"
          ]
        }
      ]
    },
    {
      "cell_type": "code",
      "source": [
        "y_test = np.array([sentiment_mapping[s] for s in df_test[\"Sentiment\"]])\n",
        "y_test"
      ],
      "metadata": {
        "colab": {
          "base_uri": "https://localhost:8080/"
        },
        "id": "uELLKdwlQt-b",
        "outputId": "9446fedd-1beb-4149-8377-2474e10d1ecb"
      },
      "execution_count": null,
      "outputs": [
        {
          "output_type": "execute_result",
          "data": {
            "text/plain": [
              "array([2, 2, 2, ..., 1, 1, 0])"
            ]
          },
          "metadata": {},
          "execution_count": 38
        }
      ]
    },
    {
      "cell_type": "markdown",
      "source": [
        "#Implementing Naive Bayes"
      ],
      "metadata": {
        "id": "EZrikCl70Dvs"
      }
    },
    {
      "cell_type": "code",
      "source": [
        "# # vector, y\n",
        "# m = 37864\n",
        "\n",
        "# sigmay0 = 0\n",
        "# sigmay1 = 0\n",
        "# sigmay2 = 0\n",
        "# for ele in y :\n",
        "#   if ele == 0:\n",
        "#     sigmay0 += 1\n",
        "#   elif ele == 1:\n",
        "#     sigmay1 += 1\n",
        "#   else :\n",
        "#     sigmay2 += 1\n",
        "sentiment_counts = np.bincount(y)\n",
        "\n",
        "# Extract counts for each sentiment class (0, 1, 2)\n",
        "sigmay0 = sentiment_counts[0] if len(sentiment_counts) > 0 else 0\n",
        "sigmay1 = sentiment_counts[1] if len(sentiment_counts) > 1 else 0\n",
        "sigmay2 = sentiment_counts[2] if len(sentiment_counts) > 2 else 0\n",
        "\n",
        "# Print the counts\n",
        "print(\"Number of zeros:\", sigmay0)\n",
        "print(\"Number of ones:\", sigmay1)\n",
        "print(\"Number of twos:\", sigmay2)\n",
        "print(sigmay0+sigmay1+sigmay2)"
      ],
      "metadata": {
        "id": "USTKRIuY0Ro1",
        "colab": {
          "base_uri": "https://localhost:8080/"
        },
        "outputId": "2729c537-20c7-4c93-f2e4-be20e47b4e96"
      },
      "execution_count": null,
      "outputs": [
        {
          "output_type": "stream",
          "name": "stdout",
          "text": [
            "Number of zeros: 16602\n",
            "Number of ones: 7096\n",
            "Number of twos: 14166\n",
            "37864\n"
          ]
        }
      ]
    },
    {
      "cell_type": "code",
      "source": [
        "m, n = vector.shape\n",
        "phi0 = np.zeros((n))\n",
        "phi1 = np.zeros((n))\n",
        "phi2 = np.zeros((n))\n",
        "\n",
        "\n",
        "# for k in range(n):\n",
        "#   num0 = 0\n",
        "#   num1 = 0\n",
        "#   num2 = 0\n",
        "\n",
        "#   for i in range(m):\n",
        "#     if vector[i][k] == 1 and y[i] == 0 :\n",
        "#       num0 += 1\n",
        "#     elif vector[i][k] == 1 and y[i] == 1 :\n",
        "#       num1 += 1\n",
        "#     elif vector[i][k] == 1 and y[i] == 2 :\n",
        "#       num2 += 1\n",
        "#   phi0[k] =  (num0 + 1)/(sigmay0+3)\n",
        "#   phi1[k] =  (num1 + 1)/(sigmay1+3)\n",
        "#   phi2[k] =  (num2 + 1)/(sigmay2+3)\n",
        "\n",
        "\n",
        "\n",
        "for k in range(n):\n",
        "    num0 = np.sum((vector[:, k] == 1) & (y == 0))\n",
        "    num1 = np.sum((vector[:, k] == 1) & (y == 1))\n",
        "    num2 = np.sum((vector[:, k] == 1) & (y == 2))\n",
        "\n",
        "    phi0[k] = (num0 + 1) / (sigmay0 + 3)\n",
        "    phi1[k] = (num1 + 1) / (sigmay1 + 3)\n",
        "    phi2[k] = (num2 + 1) / (sigmay2 + 3)"
      ],
      "metadata": {
        "id": "sZlCwGmzQtqo"
      },
      "execution_count": null,
      "outputs": []
    },
    {
      "cell_type": "code",
      "source": [
        "phiy = np.array((sigmay0/m, sigmay1/m, sigmay2/m))\n",
        "phiy"
      ],
      "metadata": {
        "colab": {
          "base_uri": "https://localhost:8080/"
        },
        "id": "J9BWm846XtRS",
        "outputId": "1bb805b8-45d1-446a-cb23-4ce8a92a114e"
      },
      "execution_count": null,
      "outputs": [
        {
          "output_type": "execute_result",
          "data": {
            "text/plain": [
              "array([0.43846398, 0.18740756, 0.37412846])"
            ]
          },
          "metadata": {},
          "execution_count": 34
        }
      ]
    },
    {
      "cell_type": "code",
      "source": [
        "# Baic implementation with loops not time efficient\n",
        "#def sigmap( X , y ):\n",
        "#   if(y==0):\n",
        "#     pdt = 1\n",
        "#     for i in range(X.shape[0]):\n",
        "#       if X[i] == 0 :\n",
        "#         pdt *=(1-phi0[i])\n",
        "#       else :\n",
        "#         pdt *= phi0[i]\n",
        "#     return pdt\n",
        "\n",
        "#   elif(y==1):\n",
        "#     pdt = 1\n",
        "#     for i in range(X.shape[0]):\n",
        "#       if X[i] == 0 :\n",
        "#         pdt *=(1-phi1[i])\n",
        "#       else :\n",
        "#         pdt *= phi1[i]\n",
        "#     return pdt\n",
        "\n",
        "#   else:\n",
        "#     pdt = 1\n",
        "#     for i in range(X.shape[0]):\n",
        "#       if X[i] == 0 :\n",
        "#         pdt *=(1-phi2[i])\n",
        "#       else :\n",
        "#         pdt *= phi2[i]\n",
        "#     return pdt\n",
        "\n",
        "# def probab( y , X):\n",
        "#   return (sigmap(X,y)*phiy[y])/(sigmap(X,0)*phiy[0]+sigmap(X,1)*phiy[1]+sigmap(X,2)*phiy[2])\n",
        "\n",
        "# def predict(X):\n",
        "#   probabilities = [probab(0, X), probab(1, X), probab(2, X)]\n",
        "\n",
        "#   if max(probabilities) == probabilities[0]:\n",
        "#       return 0\n",
        "#   elif max(probabilities) == probabilities[1]:\n",
        "#       return 1\n",
        "#   else:\n",
        "#        return 2\n",
        "\n"
      ],
      "metadata": {
        "id": "qYuN0VIRXgC5"
      },
      "execution_count": null,
      "outputs": []
    },
    {
      "cell_type": "code",
      "source": [
        "# import time\n",
        "# start = time.time()\n",
        "# print(predict(vector[0]))\n",
        "# time1 = time.time()-start\n",
        "# print(time1*30000)"
      ],
      "metadata": {
        "id": "1TQCi5oTU5bp"
      },
      "execution_count": null,
      "outputs": []
    },
    {
      "cell_type": "code",
      "source": [
        "# using Numpy array operations to improve time efficiency\n",
        "def sigmap(X, phi):\n",
        "    return np.prod(np.where(X == 0, 1 - phi, phi))\n",
        "\n",
        "def probab(y, X, phi, phiy):\n",
        "    numerator = sigmap(X, phi[y]) * phiy[y]\n",
        "    denominator = np.sum([sigmap(X, phi[i]) * phiy[i] for i in range(3)])\n",
        "    return numerator / denominator\n",
        "\n",
        "def predict(X, phi, phiy):\n",
        "    probabilities = [probab(i, X, phi, phiy) for i in range(3)]\n",
        "    return np.argmax(probabilities)\n",
        "\n"
      ],
      "metadata": {
        "id": "6vMD4SSShFMq"
      },
      "execution_count": null,
      "outputs": []
    },
    {
      "cell_type": "code",
      "source": [
        "phi = [phi0,phi1,phi2]"
      ],
      "metadata": {
        "id": "1qu6sUGYhkic"
      },
      "execution_count": null,
      "outputs": []
    },
    {
      "cell_type": "code",
      "source": [
        "import time\n",
        "start = time.time()\n",
        "print(predict(vector[0],phi,phiy))\n",
        "time1 = time.time()-start\n",
        "print(time1*30000)"
      ],
      "metadata": {
        "colab": {
          "base_uri": "https://localhost:8080/"
        },
        "id": "FiDrRnNYheTO",
        "outputId": "f75f903b-70f4-4154-f1cd-ae7db4c83525"
      },
      "execution_count": null,
      "outputs": [
        {
          "output_type": "stream",
          "name": "stdout",
          "text": [
            "0\n",
            "93.7342643737793\n"
          ]
        }
      ]
    },
    {
      "cell_type": "code",
      "source": [
        "y_pred = np.zeros(m)\n",
        "for i in range(m):\n",
        "  y_pred[i] = predict(vector[i],phi,phiy)"
      ],
      "metadata": {
        "id": "rBtNVfvcc3xc"
      },
      "execution_count": null,
      "outputs": []
    },
    {
      "cell_type": "code",
      "source": [
        "y_pred"
      ],
      "metadata": {
        "colab": {
          "base_uri": "https://localhost:8080/"
        },
        "id": "92Iww4RziKXA",
        "outputId": "bbe02fab-8b82-4759-e5af-eb1747dc9d8f"
      },
      "execution_count": null,
      "outputs": [
        {
          "output_type": "execute_result",
          "data": {
            "text/plain": [
              "array([0., 2., 2., ..., 1., 1., 1.])"
            ]
          },
          "metadata": {},
          "execution_count": 39
        }
      ]
    },
    {
      "cell_type": "code",
      "source": [
        "num_rows = vector_test.shape[0]\n",
        "num_cols = vector_test.shape[1]\n",
        "y_test_pred = np.zeros(num_rows)\n",
        "for i in range(num_rows):\n",
        "  y_test_pred[i] = predict(vector_test[i],phi,phiy)\n",
        "y_test_pred"
      ],
      "metadata": {
        "colab": {
          "base_uri": "https://localhost:8080/"
        },
        "id": "T5PFKb0A0vN5",
        "outputId": "f5cd0dfe-bb12-4f60-af15-a0f8360f1fdb"
      },
      "execution_count": null,
      "outputs": [
        {
          "output_type": "execute_result",
          "data": {
            "text/plain": [
              "array([2., 2., 2., ..., 1., 1., 0.])"
            ]
          },
          "metadata": {},
          "execution_count": 43
        }
      ]
    },
    {
      "cell_type": "code",
      "source": [
        "from sklearn.metrics import accuracy_score, confusion_matrix, classification_report\n",
        "accuracy = accuracy_score(y, y_pred)\n",
        "\n",
        "print(f'Accuracy: {accuracy:.4f}')\n",
        "\n",
        "# Confusion matrix\n",
        "conf_matrix = confusion_matrix(y, y_pred)\n",
        "print('\\nConfusion Matrix:')\n",
        "print(conf_matrix)\n",
        "\n",
        "# Classification report\n",
        "class_report = classification_report(y, y_pred)\n",
        "print('\\nClassification Report:')\n",
        "print(class_report)\n",
        "\n",
        "test_accuracy = accuracy_score(y_test, y_test_pred)\n",
        "\n",
        "print(f'Test_Accuracy: {test_accuracy:.4f}')\n",
        "\n",
        "# Confusion matrix\n",
        "conf_matrix_test = confusion_matrix(y_test, y_test_pred)\n",
        "print('\\nConfusion Matrix:')\n",
        "print(conf_matrix_test)\n",
        "\n",
        "# Classification report\n",
        "class_report_test = classification_report(y_test, y_test_pred)\n",
        "print('\\nClassification Report:')\n",
        "print(class_report_test)"
      ],
      "metadata": {
        "colab": {
          "base_uri": "https://localhost:8080/"
        },
        "id": "3OJgBu7GeV5E",
        "outputId": "3af9c8da-e367-4bed-e61c-48ba15357f54"
      },
      "execution_count": null,
      "outputs": [
        {
          "output_type": "stream",
          "name": "stdout",
          "text": [
            "Accuracy: 0.7695\n",
            "\n",
            "Confusion Matrix:\n",
            "[[13074  1334  2194]\n",
            " [ 1036  5211   849]\n",
            " [ 2140  1173 10853]]\n",
            "\n",
            "Classification Report:\n",
            "              precision    recall  f1-score   support\n",
            "\n",
            "           0       0.80      0.79      0.80     16602\n",
            "           1       0.68      0.73      0.70      7096\n",
            "           2       0.78      0.77      0.77     14166\n",
            "\n",
            "    accuracy                           0.77     37864\n",
            "   macro avg       0.75      0.76      0.76     37864\n",
            "weighted avg       0.77      0.77      0.77     37864\n",
            "\n",
            "/n/n\n",
            "Accuracy: 0.7148\n",
            "\n",
            "Confusion Matrix:\n",
            "[[1059  138  247]\n",
            " [ 143  390   84]\n",
            " [ 220  107  905]]\n",
            "\n",
            "Classification Report:\n",
            "              precision    recall  f1-score   support\n",
            "\n",
            "           0       0.74      0.73      0.74      1444\n",
            "           1       0.61      0.63      0.62       617\n",
            "           2       0.73      0.73      0.73      1232\n",
            "\n",
            "    accuracy                           0.71      3293\n",
            "   macro avg       0.70      0.70      0.70      3293\n",
            "weighted avg       0.72      0.71      0.72      3293\n",
            "\n"
          ]
        }
      ]
    },
    {
      "cell_type": "code",
      "source": [
        "\n",
        "from sklearn.metrics import accuracy_score, confusion_matrix, classification_report\n",
        "\n",
        "def evaluate_model(y_true, y_pred):\n",
        "  \"\"\"\n",
        "  This function evaluates a classification model by calculating accuracy, confusion matrix, and classification report.\n",
        "\n",
        "  Args:\n",
        "      y_true (np.array): The true target labels.\n",
        "      y_pred (np.array): The predicted labels by the model.\n",
        "  \"\"\"\n",
        "  # Accuracy\n",
        "  accuracy = accuracy_score(y_true, y_pred)\n",
        "  print(f'Accuracy: {accuracy:.4f}')\n",
        "\n",
        "  # Confusion Matrix\n",
        "  conf_matrix = confusion_matrix(y_true, y_pred)\n",
        "  print('\\nConfusion Matrix:')\n",
        "  print(conf_matrix)\n",
        "\n",
        "  # Classification Report\n",
        "  class_report = classification_report(y_true, y_pred)\n",
        "  print('\\nClassification Report:')\n",
        "  print(class_report)\n"
      ],
      "metadata": {
        "id": "MC-C0ssr27j3"
      },
      "execution_count": null,
      "outputs": []
    },
    {
      "cell_type": "markdown",
      "source": [
        "# Naive Bayes using sklearn"
      ],
      "metadata": {
        "id": "Jy6ba3an41xo"
      }
    },
    {
      "cell_type": "code",
      "source": [
        "from sklearn.naive_bayes import MultinomialNB\n",
        "model = MultinomialNB()\n",
        "model.fit(vector,y)"
      ],
      "metadata": {
        "colab": {
          "base_uri": "https://localhost:8080/",
          "height": 75
        },
        "id": "Ih1rYRoE4H60",
        "outputId": "6d3f70b9-002d-4f6d-d948-61fb6673ab8c"
      },
      "execution_count": null,
      "outputs": [
        {
          "output_type": "execute_result",
          "data": {
            "text/plain": [
              "MultinomialNB()"
            ],
            "text/html": [
              "<style>#sk-container-id-1 {color: black;background-color: white;}#sk-container-id-1 pre{padding: 0;}#sk-container-id-1 div.sk-toggleable {background-color: white;}#sk-container-id-1 label.sk-toggleable__label {cursor: pointer;display: block;width: 100%;margin-bottom: 0;padding: 0.3em;box-sizing: border-box;text-align: center;}#sk-container-id-1 label.sk-toggleable__label-arrow:before {content: \"▸\";float: left;margin-right: 0.25em;color: #696969;}#sk-container-id-1 label.sk-toggleable__label-arrow:hover:before {color: black;}#sk-container-id-1 div.sk-estimator:hover label.sk-toggleable__label-arrow:before {color: black;}#sk-container-id-1 div.sk-toggleable__content {max-height: 0;max-width: 0;overflow: hidden;text-align: left;background-color: #f0f8ff;}#sk-container-id-1 div.sk-toggleable__content pre {margin: 0.2em;color: black;border-radius: 0.25em;background-color: #f0f8ff;}#sk-container-id-1 input.sk-toggleable__control:checked~div.sk-toggleable__content {max-height: 200px;max-width: 100%;overflow: auto;}#sk-container-id-1 input.sk-toggleable__control:checked~label.sk-toggleable__label-arrow:before {content: \"▾\";}#sk-container-id-1 div.sk-estimator input.sk-toggleable__control:checked~label.sk-toggleable__label {background-color: #d4ebff;}#sk-container-id-1 div.sk-label input.sk-toggleable__control:checked~label.sk-toggleable__label {background-color: #d4ebff;}#sk-container-id-1 input.sk-hidden--visually {border: 0;clip: rect(1px 1px 1px 1px);clip: rect(1px, 1px, 1px, 1px);height: 1px;margin: -1px;overflow: hidden;padding: 0;position: absolute;width: 1px;}#sk-container-id-1 div.sk-estimator {font-family: monospace;background-color: #f0f8ff;border: 1px dotted black;border-radius: 0.25em;box-sizing: border-box;margin-bottom: 0.5em;}#sk-container-id-1 div.sk-estimator:hover {background-color: #d4ebff;}#sk-container-id-1 div.sk-parallel-item::after {content: \"\";width: 100%;border-bottom: 1px solid gray;flex-grow: 1;}#sk-container-id-1 div.sk-label:hover label.sk-toggleable__label {background-color: #d4ebff;}#sk-container-id-1 div.sk-serial::before {content: \"\";position: absolute;border-left: 1px solid gray;box-sizing: border-box;top: 0;bottom: 0;left: 50%;z-index: 0;}#sk-container-id-1 div.sk-serial {display: flex;flex-direction: column;align-items: center;background-color: white;padding-right: 0.2em;padding-left: 0.2em;position: relative;}#sk-container-id-1 div.sk-item {position: relative;z-index: 1;}#sk-container-id-1 div.sk-parallel {display: flex;align-items: stretch;justify-content: center;background-color: white;position: relative;}#sk-container-id-1 div.sk-item::before, #sk-container-id-1 div.sk-parallel-item::before {content: \"\";position: absolute;border-left: 1px solid gray;box-sizing: border-box;top: 0;bottom: 0;left: 50%;z-index: -1;}#sk-container-id-1 div.sk-parallel-item {display: flex;flex-direction: column;z-index: 1;position: relative;background-color: white;}#sk-container-id-1 div.sk-parallel-item:first-child::after {align-self: flex-end;width: 50%;}#sk-container-id-1 div.sk-parallel-item:last-child::after {align-self: flex-start;width: 50%;}#sk-container-id-1 div.sk-parallel-item:only-child::after {width: 0;}#sk-container-id-1 div.sk-dashed-wrapped {border: 1px dashed gray;margin: 0 0.4em 0.5em 0.4em;box-sizing: border-box;padding-bottom: 0.4em;background-color: white;}#sk-container-id-1 div.sk-label label {font-family: monospace;font-weight: bold;display: inline-block;line-height: 1.2em;}#sk-container-id-1 div.sk-label-container {text-align: center;}#sk-container-id-1 div.sk-container {/* jupyter's `normalize.less` sets `[hidden] { display: none; }` but bootstrap.min.css set `[hidden] { display: none !important; }` so we also need the `!important` here to be able to override the default hidden behavior on the sphinx rendered scikit-learn.org. See: https://github.com/scikit-learn/scikit-learn/issues/21755 */display: inline-block !important;position: relative;}#sk-container-id-1 div.sk-text-repr-fallback {display: none;}</style><div id=\"sk-container-id-1\" class=\"sk-top-container\"><div class=\"sk-text-repr-fallback\"><pre>MultinomialNB()</pre><b>In a Jupyter environment, please rerun this cell to show the HTML representation or trust the notebook. <br />On GitHub, the HTML representation is unable to render, please try loading this page with nbviewer.org.</b></div><div class=\"sk-container\" hidden><div class=\"sk-item\"><div class=\"sk-estimator sk-toggleable\"><input class=\"sk-toggleable__control sk-hidden--visually\" id=\"sk-estimator-id-1\" type=\"checkbox\" checked><label for=\"sk-estimator-id-1\" class=\"sk-toggleable__label sk-toggleable__label-arrow\">MultinomialNB</label><div class=\"sk-toggleable__content\"><pre>MultinomialNB()</pre></div></div></div></div></div>"
            ]
          },
          "metadata": {},
          "execution_count": 41
        }
      ]
    },
    {
      "cell_type": "code",
      "source": [
        "y_pred = model.predict(vector)\n",
        "y_pred_test = model.predict(vector_test)\n",
        "print(\"Train Data: \")\n",
        "evaluate_model(y, y_pred)\n",
        "\n",
        "print(\"Test Data: \")\n",
        "evaluate_model(y_test, y_pred_test)"
      ],
      "metadata": {
        "colab": {
          "base_uri": "https://localhost:8080/"
        },
        "id": "oIyRAZNn5Dn4",
        "outputId": "59c9b8e5-e0b0-4d01-a1d2-2b550fea4d82"
      },
      "execution_count": null,
      "outputs": [
        {
          "output_type": "stream",
          "name": "stdout",
          "text": [
            "Train Data: \n",
            "Accuracy: 0.7565\n",
            "\n",
            "Confusion Matrix:\n",
            "[[13204  1150  2248]\n",
            " [ 1554  4292  1250]\n",
            " [ 2097   922 11147]]\n",
            "\n",
            "Classification Report:\n",
            "              precision    recall  f1-score   support\n",
            "\n",
            "           0       0.78      0.80      0.79     16602\n",
            "           1       0.67      0.60      0.64      7096\n",
            "           2       0.76      0.79      0.77     14166\n",
            "\n",
            "    accuracy                           0.76     37864\n",
            "   macro avg       0.74      0.73      0.73     37864\n",
            "weighted avg       0.75      0.76      0.76     37864\n",
            "\n",
            "Test Data: \n",
            "Accuracy: 0.6978\n",
            "\n",
            "Confusion Matrix:\n",
            "[[1078  114  252]\n",
            " [ 198  290  129]\n",
            " [ 203   99  930]]\n",
            "\n",
            "Classification Report:\n",
            "              precision    recall  f1-score   support\n",
            "\n",
            "           0       0.73      0.75      0.74      1444\n",
            "           1       0.58      0.47      0.52       617\n",
            "           2       0.71      0.75      0.73      1232\n",
            "\n",
            "    accuracy                           0.70      3293\n",
            "   macro avg       0.67      0.66      0.66      3293\n",
            "weighted avg       0.69      0.70      0.69      3293\n",
            "\n"
          ]
        }
      ]
    },
    {
      "cell_type": "markdown",
      "source": [
        "## Using Tfidf"
      ],
      "metadata": {
        "id": "_kkrVqpF2d4j"
      }
    },
    {
      "cell_type": "code",
      "source": [
        "model2 = MultinomialNB()\n",
        "model2.fit(vector_tf,y)"
      ],
      "metadata": {
        "colab": {
          "base_uri": "https://localhost:8080/",
          "height": 75
        },
        "id": "06VjG4uf5bur",
        "outputId": "c50cf0a7-5387-429e-d404-ac5cd566b9cd"
      },
      "execution_count": null,
      "outputs": [
        {
          "output_type": "execute_result",
          "data": {
            "text/plain": [
              "MultinomialNB()"
            ],
            "text/html": [
              "<style>#sk-container-id-2 {color: black;background-color: white;}#sk-container-id-2 pre{padding: 0;}#sk-container-id-2 div.sk-toggleable {background-color: white;}#sk-container-id-2 label.sk-toggleable__label {cursor: pointer;display: block;width: 100%;margin-bottom: 0;padding: 0.3em;box-sizing: border-box;text-align: center;}#sk-container-id-2 label.sk-toggleable__label-arrow:before {content: \"▸\";float: left;margin-right: 0.25em;color: #696969;}#sk-container-id-2 label.sk-toggleable__label-arrow:hover:before {color: black;}#sk-container-id-2 div.sk-estimator:hover label.sk-toggleable__label-arrow:before {color: black;}#sk-container-id-2 div.sk-toggleable__content {max-height: 0;max-width: 0;overflow: hidden;text-align: left;background-color: #f0f8ff;}#sk-container-id-2 div.sk-toggleable__content pre {margin: 0.2em;color: black;border-radius: 0.25em;background-color: #f0f8ff;}#sk-container-id-2 input.sk-toggleable__control:checked~div.sk-toggleable__content {max-height: 200px;max-width: 100%;overflow: auto;}#sk-container-id-2 input.sk-toggleable__control:checked~label.sk-toggleable__label-arrow:before {content: \"▾\";}#sk-container-id-2 div.sk-estimator input.sk-toggleable__control:checked~label.sk-toggleable__label {background-color: #d4ebff;}#sk-container-id-2 div.sk-label input.sk-toggleable__control:checked~label.sk-toggleable__label {background-color: #d4ebff;}#sk-container-id-2 input.sk-hidden--visually {border: 0;clip: rect(1px 1px 1px 1px);clip: rect(1px, 1px, 1px, 1px);height: 1px;margin: -1px;overflow: hidden;padding: 0;position: absolute;width: 1px;}#sk-container-id-2 div.sk-estimator {font-family: monospace;background-color: #f0f8ff;border: 1px dotted black;border-radius: 0.25em;box-sizing: border-box;margin-bottom: 0.5em;}#sk-container-id-2 div.sk-estimator:hover {background-color: #d4ebff;}#sk-container-id-2 div.sk-parallel-item::after {content: \"\";width: 100%;border-bottom: 1px solid gray;flex-grow: 1;}#sk-container-id-2 div.sk-label:hover label.sk-toggleable__label {background-color: #d4ebff;}#sk-container-id-2 div.sk-serial::before {content: \"\";position: absolute;border-left: 1px solid gray;box-sizing: border-box;top: 0;bottom: 0;left: 50%;z-index: 0;}#sk-container-id-2 div.sk-serial {display: flex;flex-direction: column;align-items: center;background-color: white;padding-right: 0.2em;padding-left: 0.2em;position: relative;}#sk-container-id-2 div.sk-item {position: relative;z-index: 1;}#sk-container-id-2 div.sk-parallel {display: flex;align-items: stretch;justify-content: center;background-color: white;position: relative;}#sk-container-id-2 div.sk-item::before, #sk-container-id-2 div.sk-parallel-item::before {content: \"\";position: absolute;border-left: 1px solid gray;box-sizing: border-box;top: 0;bottom: 0;left: 50%;z-index: -1;}#sk-container-id-2 div.sk-parallel-item {display: flex;flex-direction: column;z-index: 1;position: relative;background-color: white;}#sk-container-id-2 div.sk-parallel-item:first-child::after {align-self: flex-end;width: 50%;}#sk-container-id-2 div.sk-parallel-item:last-child::after {align-self: flex-start;width: 50%;}#sk-container-id-2 div.sk-parallel-item:only-child::after {width: 0;}#sk-container-id-2 div.sk-dashed-wrapped {border: 1px dashed gray;margin: 0 0.4em 0.5em 0.4em;box-sizing: border-box;padding-bottom: 0.4em;background-color: white;}#sk-container-id-2 div.sk-label label {font-family: monospace;font-weight: bold;display: inline-block;line-height: 1.2em;}#sk-container-id-2 div.sk-label-container {text-align: center;}#sk-container-id-2 div.sk-container {/* jupyter's `normalize.less` sets `[hidden] { display: none; }` but bootstrap.min.css set `[hidden] { display: none !important; }` so we also need the `!important` here to be able to override the default hidden behavior on the sphinx rendered scikit-learn.org. See: https://github.com/scikit-learn/scikit-learn/issues/21755 */display: inline-block !important;position: relative;}#sk-container-id-2 div.sk-text-repr-fallback {display: none;}</style><div id=\"sk-container-id-2\" class=\"sk-top-container\"><div class=\"sk-text-repr-fallback\"><pre>MultinomialNB()</pre><b>In a Jupyter environment, please rerun this cell to show the HTML representation or trust the notebook. <br />On GitHub, the HTML representation is unable to render, please try loading this page with nbviewer.org.</b></div><div class=\"sk-container\" hidden><div class=\"sk-item\"><div class=\"sk-estimator sk-toggleable\"><input class=\"sk-toggleable__control sk-hidden--visually\" id=\"sk-estimator-id-2\" type=\"checkbox\" checked><label for=\"sk-estimator-id-2\" class=\"sk-toggleable__label sk-toggleable__label-arrow\">MultinomialNB</label><div class=\"sk-toggleable__content\"><pre>MultinomialNB()</pre></div></div></div></div></div>"
            ]
          },
          "metadata": {},
          "execution_count": 46
        }
      ]
    },
    {
      "cell_type": "code",
      "source": [
        "y_pred = model.predict(vector)\n",
        "y_pred_test = model.predict(vector_test)\n",
        "print(\"Train Data: \")\n",
        "evaluate_model(y, y_pred)\n",
        "\n",
        "print(\"Test Data: \")\n",
        "evaluate_model(y_test, y_pred_test)"
      ],
      "metadata": {
        "colab": {
          "base_uri": "https://localhost:8080/"
        },
        "id": "lcORXQpL2l69",
        "outputId": "01f266e0-97b6-40a9-c97b-6d15bf724615"
      },
      "execution_count": null,
      "outputs": [
        {
          "output_type": "stream",
          "name": "stdout",
          "text": [
            "Train Data: \n",
            "Accuracy: 0.7565\n",
            "\n",
            "Confusion Matrix:\n",
            "[[13204  1150  2248]\n",
            " [ 1554  4292  1250]\n",
            " [ 2097   922 11147]]\n",
            "\n",
            "Classification Report:\n",
            "              precision    recall  f1-score   support\n",
            "\n",
            "           0       0.78      0.80      0.79     16602\n",
            "           1       0.67      0.60      0.64      7096\n",
            "           2       0.76      0.79      0.77     14166\n",
            "\n",
            "    accuracy                           0.76     37864\n",
            "   macro avg       0.74      0.73      0.73     37864\n",
            "weighted avg       0.75      0.76      0.76     37864\n",
            "\n",
            "Test Data: \n",
            "Accuracy: 0.6978\n",
            "\n",
            "Confusion Matrix:\n",
            "[[1078  114  252]\n",
            " [ 198  290  129]\n",
            " [ 203   99  930]]\n",
            "\n",
            "Classification Report:\n",
            "              precision    recall  f1-score   support\n",
            "\n",
            "           0       0.73      0.75      0.74      1444\n",
            "           1       0.58      0.47      0.52       617\n",
            "           2       0.71      0.75      0.73      1232\n",
            "\n",
            "    accuracy                           0.70      3293\n",
            "   macro avg       0.67      0.66      0.66      3293\n",
            "weighted avg       0.69      0.70      0.69      3293\n",
            "\n"
          ]
        }
      ]
    },
    {
      "cell_type": "markdown",
      "source": [
        "**Remark:** We don't get much of a difference in accuracy using tfidf or count vectorizer"
      ],
      "metadata": {
        "id": "lgxQEPtA3e4G"
      }
    },
    {
      "cell_type": "markdown",
      "source": [
        "# Using RNN'S"
      ],
      "metadata": {
        "id": "fycuxVF63tuA"
      }
    },
    {
      "cell_type": "code",
      "source": [
        "from keras.preprocessing.text import Tokenizer\n",
        "top_words = 10000\n",
        "tokenizer = Tokenizer(num_words = top_words)\n",
        "tokenizer.fit_on_texts(df['CoronaTweet'])"
      ],
      "metadata": {
        "id": "t6ab0zVH4Ymg"
      },
      "execution_count": null,
      "outputs": []
    },
    {
      "cell_type": "code",
      "source": [
        "len(tokenizer.word_index)"
      ],
      "metadata": {
        "colab": {
          "base_uri": "https://localhost:8080/"
        },
        "id": "QeAyKCLX4lD_",
        "outputId": "0bf938da-21e0-4e49-a0ef-3743aed1f9cd"
      },
      "execution_count": null,
      "outputs": [
        {
          "output_type": "execute_result",
          "data": {
            "text/plain": [
              "44100"
            ]
          },
          "metadata": {},
          "execution_count": 27
        }
      ]
    },
    {
      "cell_type": "code",
      "source": [],
      "metadata": {
        "id": "x7gnUyLuLv6h"
      },
      "execution_count": null,
      "outputs": []
    },
    {
      "cell_type": "code",
      "source": [
        "sequences = tokenizer.texts_to_sequences(df['CoronaTweet'])\n",
        "max_length = max(len(seq) for seq in sequences)\n",
        "print(max_length)"
      ],
      "metadata": {
        "colab": {
          "base_uri": "https://localhost:8080/"
        },
        "id": "pndk_bRY4wfa",
        "outputId": "bc0e23de-ee22-4de6-fcd4-04263e4cc8e2"
      },
      "execution_count": null,
      "outputs": [
        {
          "output_type": "stream",
          "name": "stdout",
          "text": [
            "37\n"
          ]
        }
      ]
    },
    {
      "cell_type": "code",
      "source": [
        "test_seqs = tokenizer.texts_to_sequences(df_test['CoronaTweet'])"
      ],
      "metadata": {
        "id": "XtVqCSUyMJ-W"
      },
      "execution_count": null,
      "outputs": []
    },
    {
      "cell_type": "code",
      "source": [
        "max_index = max(max(seq) for seq in sequences if len(seq) )  # Consider non-empty sequences\n",
        "print(max_index)"
      ],
      "metadata": {
        "colab": {
          "base_uri": "https://localhost:8080/"
        },
        "id": "OPgEmLRU8Mh0",
        "outputId": "1a9b54cc-4d85-4994-da5a-05162e94dfdd"
      },
      "execution_count": null,
      "outputs": [
        {
          "output_type": "stream",
          "name": "stdout",
          "text": [
            "9999\n"
          ]
        }
      ]
    },
    {
      "cell_type": "code",
      "source": [
        "lengths = [len(seq) for seq in sequences]\n",
        "\n",
        "mean_length = np.mean(lengths)\n",
        "median_length = np.median(lengths)\n",
        "std_dev_length = np.std(lengths)\n",
        "\n",
        "print(\"Mean Length:\", mean_length)\n",
        "print(\"Median Length:\", median_length)\n",
        "print(\"Standard Deviation:\", std_dev_length)"
      ],
      "metadata": {
        "colab": {
          "base_uri": "https://localhost:8080/"
        },
        "id": "5kunM_ch41bo",
        "outputId": "fb9783ee-1e5d-4fee-9540-86c3b6ac47b4"
      },
      "execution_count": null,
      "outputs": [
        {
          "output_type": "stream",
          "name": "stdout",
          "text": [
            "Mean Length: 17.495246144094654\n",
            "Median Length: 18.0\n",
            "Standard Deviation: 6.563958166163938\n"
          ]
        }
      ]
    },
    {
      "cell_type": "code",
      "source": [
        "from keras.utils import pad_sequences\n",
        "max_length = 25\n",
        "sequences = pad_sequences(sequences, padding='post', maxlen=max_length)\n",
        "sequences"
      ],
      "metadata": {
        "colab": {
          "base_uri": "https://localhost:8080/"
        },
        "id": "2HHxwepX5smg",
        "outputId": "300673ba-e448-49d9-e10e-2ce500e87049"
      },
      "execution_count": null,
      "outputs": [
        {
          "output_type": "execute_result",
          "data": {
            "text/plain": [
              "array([[  51,  453, 4847, ...,   43,  127,   18],\n",
              "       [ 323, 1649,   52, ...,  150,    0,    0],\n",
              "       [1917, 2537,   20, ...,    0,    0,    0],\n",
              "       ...,\n",
              "       [ 222,  415, 4744, ...,    0,    0,    0],\n",
              "       [ 669, 9982, 1121, ...,    0,    0,    0],\n",
              "       [5540,   61, 4854, ...,    0,    0,    0]], dtype=int32)"
            ]
          },
          "metadata": {},
          "execution_count": 32
        }
      ]
    },
    {
      "cell_type": "code",
      "source": [
        "\n",
        "test_seqs = pad_sequences(test_seqs, padding='post', maxlen=max_length)\n",
        "test_seqs.shape"
      ],
      "metadata": {
        "colab": {
          "base_uri": "https://localhost:8080/"
        },
        "id": "_I8sPDFzMTiI",
        "outputId": "38e57da2-2e6f-4c01-a79c-23ca96238156"
      },
      "execution_count": null,
      "outputs": [
        {
          "output_type": "execute_result",
          "data": {
            "text/plain": [
              "(3293, 25)"
            ]
          },
          "metadata": {},
          "execution_count": 33
        }
      ]
    },
    {
      "cell_type": "code",
      "source": [
        "sequences.shape"
      ],
      "metadata": {
        "colab": {
          "base_uri": "https://localhost:8080/"
        },
        "id": "-asRF6dH6CgE",
        "outputId": "19771f3f-4d80-4bd8-adcd-4b7ac1306952"
      },
      "execution_count": null,
      "outputs": [
        {
          "output_type": "execute_result",
          "data": {
            "text/plain": [
              "(37864, 25)"
            ]
          },
          "metadata": {},
          "execution_count": 34
        }
      ]
    },
    {
      "cell_type": "code",
      "source": [
        "from keras import Sequential\n",
        "from keras.layers import Dense,SimpleRNN,Embedding,Flatten\n",
        "model = Sequential()\n",
        "model.add(Embedding(10000,output_dim=10,input_length=25))\n",
        "model.add(SimpleRNN(32,return_sequences=False))\n",
        "model.add(Dense(3, activation='softmax'))\n",
        "\n",
        "model.summary()\n",
        "\n",
        "model.summary()"
      ],
      "metadata": {
        "colab": {
          "base_uri": "https://localhost:8080/"
        },
        "id": "piZvI66U6dOR",
        "outputId": "95aec33c-dc8e-4a36-a997-4988710c8198"
      },
      "execution_count": null,
      "outputs": [
        {
          "output_type": "stream",
          "name": "stdout",
          "text": [
            "Model: \"sequential\"\n",
            "_________________________________________________________________\n",
            " Layer (type)                Output Shape              Param #   \n",
            "=================================================================\n",
            " embedding (Embedding)       (None, 25, 10)            100000    \n",
            "                                                                 \n",
            " simple_rnn (SimpleRNN)      (None, 32)                1376      \n",
            "                                                                 \n",
            " dense (Dense)               (None, 3)                 99        \n",
            "                                                                 \n",
            "=================================================================\n",
            "Total params: 101475 (396.39 KB)\n",
            "Trainable params: 101475 (396.39 KB)\n",
            "Non-trainable params: 0 (0.00 Byte)\n",
            "_________________________________________________________________\n",
            "Model: \"sequential\"\n",
            "_________________________________________________________________\n",
            " Layer (type)                Output Shape              Param #   \n",
            "=================================================================\n",
            " embedding (Embedding)       (None, 25, 10)            100000    \n",
            "                                                                 \n",
            " simple_rnn (SimpleRNN)      (None, 32)                1376      \n",
            "                                                                 \n",
            " dense (Dense)               (None, 3)                 99        \n",
            "                                                                 \n",
            "=================================================================\n",
            "Total params: 101475 (396.39 KB)\n",
            "Trainable params: 101475 (396.39 KB)\n",
            "Non-trainable params: 0 (0.00 Byte)\n",
            "_________________________________________________________________\n"
          ]
        }
      ]
    },
    {
      "cell_type": "code",
      "source": [
        "y.shape, y_test.shape"
      ],
      "metadata": {
        "colab": {
          "base_uri": "https://localhost:8080/"
        },
        "id": "HC10SBfOMcBq",
        "outputId": "10a2ee3d-67cf-4cc1-fe7c-fad0efc66679"
      },
      "execution_count": null,
      "outputs": [
        {
          "output_type": "execute_result",
          "data": {
            "text/plain": [
              "((37864,), (3293,))"
            ]
          },
          "metadata": {},
          "execution_count": 39
        }
      ]
    },
    {
      "cell_type": "code",
      "source": [
        "model.compile(optimizer='adam', loss='sparse_categorical_crossentropy', metrics=['acc'])\n",
        "history = model.fit(sequences, y , epochs=5, validation_data=(test_seqs,y_test))"
      ],
      "metadata": {
        "colab": {
          "base_uri": "https://localhost:8080/"
        },
        "id": "TtrocnU0Lb44",
        "outputId": "f23c13bb-419c-468b-bf3c-969c1a7b2af0"
      },
      "execution_count": null,
      "outputs": [
        {
          "output_type": "stream",
          "name": "stdout",
          "text": [
            "Epoch 1/5\n",
            "1184/1184 [==============================] - 14s 10ms/step - loss: 0.8056 - acc: 0.6439 - val_loss: 0.6375 - val_acc: 0.7561\n",
            "Epoch 2/5\n",
            "1184/1184 [==============================] - 11s 10ms/step - loss: 0.5166 - acc: 0.8092 - val_loss: 0.5596 - val_acc: 0.7853\n",
            "Epoch 3/5\n",
            "1184/1184 [==============================] - 12s 10ms/step - loss: 0.4010 - acc: 0.8587 - val_loss: 0.5747 - val_acc: 0.7944\n",
            "Epoch 4/5\n",
            "1184/1184 [==============================] - 12s 10ms/step - loss: 0.3285 - acc: 0.8880 - val_loss: 0.6196 - val_acc: 0.7823\n",
            "Epoch 5/5\n",
            "1184/1184 [==============================] - 12s 10ms/step - loss: 0.2693 - acc: 0.9099 - val_loss: 0.6945 - val_acc: 0.7786\n"
          ]
        }
      ]
    },
    {
      "cell_type": "markdown",
      "source": [
        "## Trying to reduce overfitting by experimentation"
      ],
      "metadata": {
        "id": "rUuBOrWSjTAY"
      }
    },
    {
      "cell_type": "code",
      "source": [
        "from keras.preprocessing.text import Tokenizer\n",
        "top_words = 3000\n",
        "tokenizer = Tokenizer(num_words = top_words, oov_token='<nothing>')\n",
        "tokenizer.fit_on_texts(df['CoronaTweet'])\n",
        "\n",
        "sequences = tokenizer.texts_to_sequences(df['CoronaTweet'])\n",
        "test_seqs = tokenizer.texts_to_sequences(df_test['CoronaTweet'])\n",
        "\n",
        "max_length = 25\n",
        "sequences = pad_sequences(sequences, padding='post', maxlen=max_length)\n",
        "\n",
        "test_seqs = pad_sequences(test_seqs, padding='post', maxlen=max_length)"
      ],
      "metadata": {
        "id": "W4BUAJYfjSL5"
      },
      "execution_count": null,
      "outputs": []
    },
    {
      "cell_type": "code",
      "source": [
        "from keras import Sequential\n",
        "from keras.layers import Dense,SimpleRNN,Embedding,Flatten\n",
        "from keras.regularizers import L1, L2\n",
        "\n",
        "model = Sequential()\n",
        "model.add(Embedding(3000,output_dim=10,input_length=25))\n",
        "model.add(SimpleRNN(32,return_sequences=False))\n",
        "model.add(Dense(3, activation='softmax')) #,kernel_regularizer=L2(0.01)"
      ],
      "metadata": {
        "id": "cfHBG9dxkt3z"
      },
      "execution_count": null,
      "outputs": []
    },
    {
      "cell_type": "code",
      "source": [
        "model.compile(optimizer='adam', loss='sparse_categorical_crossentropy', metrics=['acc'])\n",
        "history = model.fit(sequences, y , epochs=7, validation_data=(test_seqs,y_test))"
      ],
      "metadata": {
        "colab": {
          "base_uri": "https://localhost:8080/"
        },
        "id": "RF0JmFj_kwOj",
        "outputId": "eb0382b3-7d8d-495f-8919-eb98f5a1dcc2"
      },
      "execution_count": null,
      "outputs": [
        {
          "output_type": "stream",
          "name": "stdout",
          "text": [
            "Epoch 1/7\n",
            "1184/1184 [==============================] - 12s 9ms/step - loss: 0.7871 - acc: 0.6439 - val_loss: 0.5850 - val_acc: 0.7804\n",
            "Epoch 2/7\n",
            "1184/1184 [==============================] - 10s 9ms/step - loss: 0.5481 - acc: 0.7972 - val_loss: 0.5721 - val_acc: 0.7853\n",
            "Epoch 3/7\n",
            "1184/1184 [==============================] - 10s 8ms/step - loss: 0.4953 - acc: 0.8210 - val_loss: 0.5399 - val_acc: 0.7999\n",
            "Epoch 4/7\n",
            "1184/1184 [==============================] - 10s 8ms/step - loss: 0.4475 - acc: 0.8400 - val_loss: 0.6050 - val_acc: 0.7741\n",
            "Epoch 5/7\n",
            "1184/1184 [==============================] - 11s 9ms/step - loss: 0.4022 - acc: 0.8593 - val_loss: 0.5851 - val_acc: 0.7871\n",
            "Epoch 6/7\n",
            "1184/1184 [==============================] - 10s 9ms/step - loss: 0.3636 - acc: 0.8721 - val_loss: 0.6268 - val_acc: 0.7841\n",
            "Epoch 7/7\n",
            "1184/1184 [==============================] - 9s 8ms/step - loss: 0.3252 - acc: 0.8871 - val_loss: 0.6880 - val_acc: 0.7561\n"
          ]
        }
      ]
    },
    {
      "cell_type": "markdown",
      "source": [
        "Top words: 15000\n",
        "oov_taken: <nothing>\n",
        "max_lenght: 30\n",
        "\n",
        "\n",
        "ch 1/5\n",
        "1184/1184 [==============================] - 15s 12ms/step - loss: 0.8330 - acc: 0.6118 - val_loss: 0.6174 - val_acc: 0.7583\n",
        "\n",
        "Epoch 2/5\n",
        "1184/1184 [==============================] - 15s 12ms/step - loss: 0.5014 - acc: 0.8184 - val_loss: 0.5618 - val_acc: 0.7956\n",
        "\n",
        "Epoch 3/5\n",
        "1184/1184 [==============================] - 13s 11ms/step - loss: 0.3805 - acc: 0.8694 - val_loss: 0.5767 - val_acc: 0.7847\n",
        "\n",
        "Epoch 4/5\n",
        "1184/1184 [==============================] - 14s 12ms/step - loss: 0.3039 - acc: 0.8965 - val_loss: 0.6100 - val_acc: 0.7747\n",
        "\n",
        "Epoch 5/5\n",
        "1184/1184 [==============================] - 13s 11ms/step - loss: 0.2520 - acc: 0.9164 - val_loss: 0.6633 - val_acc: 0.7689"
      ],
      "metadata": {
        "id": "ILcn8Z6v8zlm"
      }
    },
    {
      "cell_type": "markdown",
      "source": [
        "Top words: 5000\n",
        "oov_taken: <nothing>\n",
        "max_lenght: 25\n",
        "\n",
        "Epoch 1/5\n",
        "1184/1184 [==============================] - 12s 9ms/step - loss: 0.7657 - acc: 0.6609 - val_loss: 0.6021 - val_acc: 0.7680\n",
        "\n",
        "Epoch 2/5\n",
        "1184/1184 [==============================] - 10s 9ms/step - loss: 0.5188 - acc: 0.8091 - val_loss: 0.5315 - val_acc: 0.7993\n",
        "\n",
        "Epoch 3/5\n",
        "1184/1184 [==============================] - 10s 8ms/step - loss: 0.4515 - acc: 0.8408 - val_loss: 0.5426 - val_acc: 0.8020\n",
        "\n",
        "Epoch 4/5\n",
        "1184/1184 [==============================] - 9s 8ms/step - loss: 0.3996 - acc: 0.8591 - val_loss: 0.5687 - val_acc: 0.7959\n",
        "\n",
        "Epoch 5/5\n",
        "1184/1184 [==============================] - 10s 9ms/step - loss: 0.3483 - acc: 0.8794 - val_loss: 0.6015 - val_acc: 0.7871"
      ],
      "metadata": {
        "id": "_qh0F_fc9pUp"
      }
    },
    {
      "cell_type": "markdown",
      "source": [
        "**Top words: 5000**\n",
        "oov_taken: `<nothing> `\n",
        "**max_lenght: 25**\n",
        "embedding dimension: 50 (val accuracy decreased)\n",
        "\n",
        "Epoch 1/5\n",
        "1184/1184 [==============================] - 16s 13ms/step - loss: 0.7469 - acc: 0.6790 - val_loss: 0.5818 - val_acc: 0.7771\n",
        "\n",
        "Epoch 2/5\n",
        "1184/1184 [==============================] - 15s 13ms/step - loss: 0.4832 - acc: 0.8257 - val_loss: 0.5878 - val_acc: 0.7768\n",
        "\n",
        "Epoch 3/5\n",
        "1184/1184 [==============================] - 15s 13ms/step - loss: 0.3565 - acc: 0.8781 - val_loss: 0.6026 - val_acc: 0.7820\n",
        "\n",
        "Epoch 4/5\n",
        "1184/1184 [==============================] - 15s 12ms/step - loss: 0.2390 - acc: 0.9205 - val_loss: 0.6891 - val_acc: 0.7780\n",
        "\n",
        "Epoch 5/5\n",
        "1184/1184 [==============================] - 14s 12ms/step - loss: 0.1556 - acc: 0.9504 - val_loss: 0.8695 - val_acc: 0.7543"
      ],
      "metadata": {
        "id": "OCmSM04b-6Fz"
      }
    }
  ]
}